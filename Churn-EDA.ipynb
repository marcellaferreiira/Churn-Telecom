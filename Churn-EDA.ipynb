{
 "cells": [
  {
   "cell_type": "markdown",
   "id": "10272002-8b43-43ca-937f-7501b67ba29b",
   "metadata": {},
   "source": [
    "\n",
    "Cada linha representa um cliente, cada coluna contém os atributos do cliente descritos na coluna Metadados.\n",
    "\n",
    "O conjunto de dados inclui informações sobre:\n",
    "\n",
    "Clientes que saíram no último mês - a coluna é chamada de rotatividade<br>\n",
    "Serviços que cada cliente assinou - telefone, várias linhas, internet, segurança online, backup online, proteção de dispositivo, suporte técnico e streaming de TV e filmes<br>\n",
    "Informações da conta do cliente - há quanto tempo ele é cliente, contrato, forma de pagamento, faturamento sem papel, cobranças mensais e cobranças totais<br>\n",
    "Informações demográficas sobre clientes - sexo, faixa etária e se eles têm parceiros e dependentes"
   ]
  },
  {
   "cell_type": "code",
   "execution_count": 1,
   "id": "702d41a2-0f61-4a01-a834-0ea324665802",
   "metadata": {},
   "outputs": [
    {
     "data": {
      "application/javascript": [
       "\n",
       "            setTimeout(function() {\n",
       "                var nbb_cell_id = 1;\n",
       "                var nbb_unformatted_code = \"#import das libs\\n\\nimport pandas as pd\\nimport numpy as np\\nimport seaborn as sns\\nimport matplotlib.pyplot as plt\\n\\n\\n%load_ext nb_black\\nplt.style.use(\\\"fivethirtyeight\\\")\\n\\n\\nimport warnings\\nwarnings.filterwarnings(\\\"ignore\\\")\";\n",
       "                var nbb_formatted_code = \"# import das libs\\n\\nimport pandas as pd\\nimport numpy as np\\nimport seaborn as sns\\nimport matplotlib.pyplot as plt\\n\\n\\n%load_ext nb_black\\nplt.style.use(\\\"fivethirtyeight\\\")\\n\\n\\nimport warnings\\n\\nwarnings.filterwarnings(\\\"ignore\\\")\";\n",
       "                var nbb_cells = Jupyter.notebook.get_cells();\n",
       "                for (var i = 0; i < nbb_cells.length; ++i) {\n",
       "                    if (nbb_cells[i].input_prompt_number == nbb_cell_id) {\n",
       "                        if (nbb_cells[i].get_text() == nbb_unformatted_code) {\n",
       "                             nbb_cells[i].set_text(nbb_formatted_code);\n",
       "                        }\n",
       "                        break;\n",
       "                    }\n",
       "                }\n",
       "            }, 500);\n",
       "            "
      ],
      "text/plain": [
       "<IPython.core.display.Javascript object>"
      ]
     },
     "metadata": {},
     "output_type": "display_data"
    }
   ],
   "source": [
    "#import das libs\n",
    "\n",
    "import pandas as pd\n",
    "import numpy as np\n",
    "import seaborn as sns\n",
    "import matplotlib.pyplot as plt\n",
    "\n",
    "\n",
    "%load_ext nb_black\n",
    "plt.style.use(\"fivethirtyeight\")\n",
    "\n",
    "\n",
    "import warnings\n",
    "warnings.filterwarnings(\"ignore\")"
   ]
  },
  {
   "cell_type": "code",
   "execution_count": 2,
   "id": "3b80983d-402f-4b85-a842-4f72e333fccb",
   "metadata": {},
   "outputs": [
    {
     "data": {
      "text/html": [
       "<div>\n",
       "<style scoped>\n",
       "    .dataframe tbody tr th:only-of-type {\n",
       "        vertical-align: middle;\n",
       "    }\n",
       "\n",
       "    .dataframe tbody tr th {\n",
       "        vertical-align: top;\n",
       "    }\n",
       "\n",
       "    .dataframe thead th {\n",
       "        text-align: right;\n",
       "    }\n",
       "</style>\n",
       "<table border=\"1\" class=\"dataframe\">\n",
       "  <thead>\n",
       "    <tr style=\"text-align: right;\">\n",
       "      <th></th>\n",
       "      <th>customerID</th>\n",
       "      <th>gender</th>\n",
       "      <th>SeniorCitizen</th>\n",
       "      <th>Partner</th>\n",
       "      <th>Dependents</th>\n",
       "      <th>tenure</th>\n",
       "      <th>PhoneService</th>\n",
       "      <th>MultipleLines</th>\n",
       "      <th>InternetService</th>\n",
       "      <th>OnlineSecurity</th>\n",
       "      <th>...</th>\n",
       "      <th>DeviceProtection</th>\n",
       "      <th>TechSupport</th>\n",
       "      <th>StreamingTV</th>\n",
       "      <th>StreamingMovies</th>\n",
       "      <th>Contract</th>\n",
       "      <th>PaperlessBilling</th>\n",
       "      <th>PaymentMethod</th>\n",
       "      <th>MonthlyCharges</th>\n",
       "      <th>TotalCharges</th>\n",
       "      <th>Churn</th>\n",
       "    </tr>\n",
       "  </thead>\n",
       "  <tbody>\n",
       "    <tr>\n",
       "      <th>0</th>\n",
       "      <td>7590-VHVEG</td>\n",
       "      <td>Female</td>\n",
       "      <td>0</td>\n",
       "      <td>Yes</td>\n",
       "      <td>No</td>\n",
       "      <td>1</td>\n",
       "      <td>No</td>\n",
       "      <td>No phone service</td>\n",
       "      <td>DSL</td>\n",
       "      <td>No</td>\n",
       "      <td>...</td>\n",
       "      <td>No</td>\n",
       "      <td>No</td>\n",
       "      <td>No</td>\n",
       "      <td>No</td>\n",
       "      <td>Month-to-month</td>\n",
       "      <td>Yes</td>\n",
       "      <td>Electronic check</td>\n",
       "      <td>29.85</td>\n",
       "      <td>29.85</td>\n",
       "      <td>No</td>\n",
       "    </tr>\n",
       "    <tr>\n",
       "      <th>1</th>\n",
       "      <td>5575-GNVDE</td>\n",
       "      <td>Male</td>\n",
       "      <td>0</td>\n",
       "      <td>No</td>\n",
       "      <td>No</td>\n",
       "      <td>34</td>\n",
       "      <td>Yes</td>\n",
       "      <td>No</td>\n",
       "      <td>DSL</td>\n",
       "      <td>Yes</td>\n",
       "      <td>...</td>\n",
       "      <td>Yes</td>\n",
       "      <td>No</td>\n",
       "      <td>No</td>\n",
       "      <td>No</td>\n",
       "      <td>One year</td>\n",
       "      <td>No</td>\n",
       "      <td>Mailed check</td>\n",
       "      <td>56.95</td>\n",
       "      <td>1889.5</td>\n",
       "      <td>No</td>\n",
       "    </tr>\n",
       "    <tr>\n",
       "      <th>2</th>\n",
       "      <td>3668-QPYBK</td>\n",
       "      <td>Male</td>\n",
       "      <td>0</td>\n",
       "      <td>No</td>\n",
       "      <td>No</td>\n",
       "      <td>2</td>\n",
       "      <td>Yes</td>\n",
       "      <td>No</td>\n",
       "      <td>DSL</td>\n",
       "      <td>Yes</td>\n",
       "      <td>...</td>\n",
       "      <td>No</td>\n",
       "      <td>No</td>\n",
       "      <td>No</td>\n",
       "      <td>No</td>\n",
       "      <td>Month-to-month</td>\n",
       "      <td>Yes</td>\n",
       "      <td>Mailed check</td>\n",
       "      <td>53.85</td>\n",
       "      <td>108.15</td>\n",
       "      <td>Yes</td>\n",
       "    </tr>\n",
       "    <tr>\n",
       "      <th>3</th>\n",
       "      <td>7795-CFOCW</td>\n",
       "      <td>Male</td>\n",
       "      <td>0</td>\n",
       "      <td>No</td>\n",
       "      <td>No</td>\n",
       "      <td>45</td>\n",
       "      <td>No</td>\n",
       "      <td>No phone service</td>\n",
       "      <td>DSL</td>\n",
       "      <td>Yes</td>\n",
       "      <td>...</td>\n",
       "      <td>Yes</td>\n",
       "      <td>Yes</td>\n",
       "      <td>No</td>\n",
       "      <td>No</td>\n",
       "      <td>One year</td>\n",
       "      <td>No</td>\n",
       "      <td>Bank transfer (automatic)</td>\n",
       "      <td>42.30</td>\n",
       "      <td>1840.75</td>\n",
       "      <td>No</td>\n",
       "    </tr>\n",
       "    <tr>\n",
       "      <th>4</th>\n",
       "      <td>9237-HQITU</td>\n",
       "      <td>Female</td>\n",
       "      <td>0</td>\n",
       "      <td>No</td>\n",
       "      <td>No</td>\n",
       "      <td>2</td>\n",
       "      <td>Yes</td>\n",
       "      <td>No</td>\n",
       "      <td>Fiber optic</td>\n",
       "      <td>No</td>\n",
       "      <td>...</td>\n",
       "      <td>No</td>\n",
       "      <td>No</td>\n",
       "      <td>No</td>\n",
       "      <td>No</td>\n",
       "      <td>Month-to-month</td>\n",
       "      <td>Yes</td>\n",
       "      <td>Electronic check</td>\n",
       "      <td>70.70</td>\n",
       "      <td>151.65</td>\n",
       "      <td>Yes</td>\n",
       "    </tr>\n",
       "    <tr>\n",
       "      <th>5</th>\n",
       "      <td>9305-CDSKC</td>\n",
       "      <td>Female</td>\n",
       "      <td>0</td>\n",
       "      <td>No</td>\n",
       "      <td>No</td>\n",
       "      <td>8</td>\n",
       "      <td>Yes</td>\n",
       "      <td>Yes</td>\n",
       "      <td>Fiber optic</td>\n",
       "      <td>No</td>\n",
       "      <td>...</td>\n",
       "      <td>Yes</td>\n",
       "      <td>No</td>\n",
       "      <td>Yes</td>\n",
       "      <td>Yes</td>\n",
       "      <td>Month-to-month</td>\n",
       "      <td>Yes</td>\n",
       "      <td>Electronic check</td>\n",
       "      <td>99.65</td>\n",
       "      <td>820.5</td>\n",
       "      <td>Yes</td>\n",
       "    </tr>\n",
       "    <tr>\n",
       "      <th>6</th>\n",
       "      <td>1452-KIOVK</td>\n",
       "      <td>Male</td>\n",
       "      <td>0</td>\n",
       "      <td>No</td>\n",
       "      <td>Yes</td>\n",
       "      <td>22</td>\n",
       "      <td>Yes</td>\n",
       "      <td>Yes</td>\n",
       "      <td>Fiber optic</td>\n",
       "      <td>No</td>\n",
       "      <td>...</td>\n",
       "      <td>No</td>\n",
       "      <td>No</td>\n",
       "      <td>Yes</td>\n",
       "      <td>No</td>\n",
       "      <td>Month-to-month</td>\n",
       "      <td>Yes</td>\n",
       "      <td>Credit card (automatic)</td>\n",
       "      <td>89.10</td>\n",
       "      <td>1949.4</td>\n",
       "      <td>No</td>\n",
       "    </tr>\n",
       "    <tr>\n",
       "      <th>7</th>\n",
       "      <td>6713-OKOMC</td>\n",
       "      <td>Female</td>\n",
       "      <td>0</td>\n",
       "      <td>No</td>\n",
       "      <td>No</td>\n",
       "      <td>10</td>\n",
       "      <td>No</td>\n",
       "      <td>No phone service</td>\n",
       "      <td>DSL</td>\n",
       "      <td>Yes</td>\n",
       "      <td>...</td>\n",
       "      <td>No</td>\n",
       "      <td>No</td>\n",
       "      <td>No</td>\n",
       "      <td>No</td>\n",
       "      <td>Month-to-month</td>\n",
       "      <td>No</td>\n",
       "      <td>Mailed check</td>\n",
       "      <td>29.75</td>\n",
       "      <td>301.9</td>\n",
       "      <td>No</td>\n",
       "    </tr>\n",
       "    <tr>\n",
       "      <th>8</th>\n",
       "      <td>7892-POOKP</td>\n",
       "      <td>Female</td>\n",
       "      <td>0</td>\n",
       "      <td>Yes</td>\n",
       "      <td>No</td>\n",
       "      <td>28</td>\n",
       "      <td>Yes</td>\n",
       "      <td>Yes</td>\n",
       "      <td>Fiber optic</td>\n",
       "      <td>No</td>\n",
       "      <td>...</td>\n",
       "      <td>Yes</td>\n",
       "      <td>Yes</td>\n",
       "      <td>Yes</td>\n",
       "      <td>Yes</td>\n",
       "      <td>Month-to-month</td>\n",
       "      <td>Yes</td>\n",
       "      <td>Electronic check</td>\n",
       "      <td>104.80</td>\n",
       "      <td>3046.05</td>\n",
       "      <td>Yes</td>\n",
       "    </tr>\n",
       "    <tr>\n",
       "      <th>9</th>\n",
       "      <td>6388-TABGU</td>\n",
       "      <td>Male</td>\n",
       "      <td>0</td>\n",
       "      <td>No</td>\n",
       "      <td>Yes</td>\n",
       "      <td>62</td>\n",
       "      <td>Yes</td>\n",
       "      <td>No</td>\n",
       "      <td>DSL</td>\n",
       "      <td>Yes</td>\n",
       "      <td>...</td>\n",
       "      <td>No</td>\n",
       "      <td>No</td>\n",
       "      <td>No</td>\n",
       "      <td>No</td>\n",
       "      <td>One year</td>\n",
       "      <td>No</td>\n",
       "      <td>Bank transfer (automatic)</td>\n",
       "      <td>56.15</td>\n",
       "      <td>3487.95</td>\n",
       "      <td>No</td>\n",
       "    </tr>\n",
       "  </tbody>\n",
       "</table>\n",
       "<p>10 rows × 21 columns</p>\n",
       "</div>"
      ],
      "text/plain": [
       "   customerID  gender  SeniorCitizen Partner Dependents  tenure PhoneService  \\\n",
       "0  7590-VHVEG  Female              0     Yes         No       1           No   \n",
       "1  5575-GNVDE    Male              0      No         No      34          Yes   \n",
       "2  3668-QPYBK    Male              0      No         No       2          Yes   \n",
       "3  7795-CFOCW    Male              0      No         No      45           No   \n",
       "4  9237-HQITU  Female              0      No         No       2          Yes   \n",
       "5  9305-CDSKC  Female              0      No         No       8          Yes   \n",
       "6  1452-KIOVK    Male              0      No        Yes      22          Yes   \n",
       "7  6713-OKOMC  Female              0      No         No      10           No   \n",
       "8  7892-POOKP  Female              0     Yes         No      28          Yes   \n",
       "9  6388-TABGU    Male              0      No        Yes      62          Yes   \n",
       "\n",
       "      MultipleLines InternetService OnlineSecurity  ... DeviceProtection  \\\n",
       "0  No phone service             DSL             No  ...               No   \n",
       "1                No             DSL            Yes  ...              Yes   \n",
       "2                No             DSL            Yes  ...               No   \n",
       "3  No phone service             DSL            Yes  ...              Yes   \n",
       "4                No     Fiber optic             No  ...               No   \n",
       "5               Yes     Fiber optic             No  ...              Yes   \n",
       "6               Yes     Fiber optic             No  ...               No   \n",
       "7  No phone service             DSL            Yes  ...               No   \n",
       "8               Yes     Fiber optic             No  ...              Yes   \n",
       "9                No             DSL            Yes  ...               No   \n",
       "\n",
       "  TechSupport StreamingTV StreamingMovies        Contract PaperlessBilling  \\\n",
       "0          No          No              No  Month-to-month              Yes   \n",
       "1          No          No              No        One year               No   \n",
       "2          No          No              No  Month-to-month              Yes   \n",
       "3         Yes          No              No        One year               No   \n",
       "4          No          No              No  Month-to-month              Yes   \n",
       "5          No         Yes             Yes  Month-to-month              Yes   \n",
       "6          No         Yes              No  Month-to-month              Yes   \n",
       "7          No          No              No  Month-to-month               No   \n",
       "8         Yes         Yes             Yes  Month-to-month              Yes   \n",
       "9          No          No              No        One year               No   \n",
       "\n",
       "               PaymentMethod MonthlyCharges  TotalCharges Churn  \n",
       "0           Electronic check          29.85         29.85    No  \n",
       "1               Mailed check          56.95        1889.5    No  \n",
       "2               Mailed check          53.85        108.15   Yes  \n",
       "3  Bank transfer (automatic)          42.30       1840.75    No  \n",
       "4           Electronic check          70.70        151.65   Yes  \n",
       "5           Electronic check          99.65         820.5   Yes  \n",
       "6    Credit card (automatic)          89.10        1949.4    No  \n",
       "7               Mailed check          29.75         301.9    No  \n",
       "8           Electronic check         104.80       3046.05   Yes  \n",
       "9  Bank transfer (automatic)          56.15       3487.95    No  \n",
       "\n",
       "[10 rows x 21 columns]"
      ]
     },
     "execution_count": 2,
     "metadata": {},
     "output_type": "execute_result"
    },
    {
     "data": {
      "application/javascript": [
       "\n",
       "            setTimeout(function() {\n",
       "                var nbb_cell_id = 2;\n",
       "                var nbb_unformatted_code = \"# cria\\u00e7\\u00e3o do dataframe\\nfile = pd.read_csv('WA_Fn-UseC_-Telco-Customer-Churn.csv')\\ndf = pd.DataFrame(file)\\ndf.head(10)\";\n",
       "                var nbb_formatted_code = \"# cria\\u00e7\\u00e3o do dataframe\\nfile = pd.read_csv(\\\"WA_Fn-UseC_-Telco-Customer-Churn.csv\\\")\\ndf = pd.DataFrame(file)\\ndf.head(10)\";\n",
       "                var nbb_cells = Jupyter.notebook.get_cells();\n",
       "                for (var i = 0; i < nbb_cells.length; ++i) {\n",
       "                    if (nbb_cells[i].input_prompt_number == nbb_cell_id) {\n",
       "                        if (nbb_cells[i].get_text() == nbb_unformatted_code) {\n",
       "                             nbb_cells[i].set_text(nbb_formatted_code);\n",
       "                        }\n",
       "                        break;\n",
       "                    }\n",
       "                }\n",
       "            }, 500);\n",
       "            "
      ],
      "text/plain": [
       "<IPython.core.display.Javascript object>"
      ]
     },
     "metadata": {},
     "output_type": "display_data"
    }
   ],
   "source": [
    "# criação do dataframe\n",
    "file = pd.read_csv('WA_Fn-UseC_-Telco-Customer-Churn.csv')\n",
    "df = pd.DataFrame(file)\n",
    "df.head(10)"
   ]
  },
  {
   "cell_type": "code",
   "execution_count": 37,
   "id": "4282c90c-6a03-49fa-9994-0f5d449301bb",
   "metadata": {},
   "outputs": [
    {
     "data": {
      "text/html": [
       "<div>\n",
       "<style scoped>\n",
       "    .dataframe tbody tr th:only-of-type {\n",
       "        vertical-align: middle;\n",
       "    }\n",
       "\n",
       "    .dataframe tbody tr th {\n",
       "        vertical-align: top;\n",
       "    }\n",
       "\n",
       "    .dataframe thead th {\n",
       "        text-align: right;\n",
       "    }\n",
       "</style>\n",
       "<table border=\"1\" class=\"dataframe\">\n",
       "  <thead>\n",
       "    <tr style=\"text-align: right;\">\n",
       "      <th></th>\n",
       "      <th>Amount_NaN</th>\n",
       "      <th>%_NaN</th>\n",
       "      <th>DType</th>\n",
       "      <th>Amount_Data</th>\n",
       "      <th>Mean</th>\n",
       "      <th>Median</th>\n",
       "      <th>Max</th>\n",
       "      <th>Min</th>\n",
       "      <th>STD</th>\n",
       "      <th>Amount_Unique</th>\n",
       "    </tr>\n",
       "  </thead>\n",
       "  <tbody>\n",
       "    <tr>\n",
       "      <th>churn</th>\n",
       "      <td>0</td>\n",
       "      <td>0.0</td>\n",
       "      <td>object</td>\n",
       "      <td>7043</td>\n",
       "      <td>NaN</td>\n",
       "      <td>NaN</td>\n",
       "      <td>Yes</td>\n",
       "      <td>No</td>\n",
       "      <td>NaN</td>\n",
       "      <td>2</td>\n",
       "    </tr>\n",
       "    <tr>\n",
       "      <th>contract</th>\n",
       "      <td>0</td>\n",
       "      <td>0.0</td>\n",
       "      <td>object</td>\n",
       "      <td>7043</td>\n",
       "      <td>NaN</td>\n",
       "      <td>NaN</td>\n",
       "      <td>Two year</td>\n",
       "      <td>Month-to-month</td>\n",
       "      <td>NaN</td>\n",
       "      <td>3</td>\n",
       "    </tr>\n",
       "    <tr>\n",
       "      <th>dependents</th>\n",
       "      <td>0</td>\n",
       "      <td>0.0</td>\n",
       "      <td>object</td>\n",
       "      <td>7043</td>\n",
       "      <td>NaN</td>\n",
       "      <td>NaN</td>\n",
       "      <td>Yes</td>\n",
       "      <td>No</td>\n",
       "      <td>NaN</td>\n",
       "      <td>2</td>\n",
       "    </tr>\n",
       "    <tr>\n",
       "      <th>deviceprotection</th>\n",
       "      <td>0</td>\n",
       "      <td>0.0</td>\n",
       "      <td>object</td>\n",
       "      <td>7043</td>\n",
       "      <td>NaN</td>\n",
       "      <td>NaN</td>\n",
       "      <td>Yes</td>\n",
       "      <td>No</td>\n",
       "      <td>NaN</td>\n",
       "      <td>2</td>\n",
       "    </tr>\n",
       "    <tr>\n",
       "      <th>gender</th>\n",
       "      <td>0</td>\n",
       "      <td>0.0</td>\n",
       "      <td>object</td>\n",
       "      <td>7043</td>\n",
       "      <td>NaN</td>\n",
       "      <td>NaN</td>\n",
       "      <td>Male</td>\n",
       "      <td>Female</td>\n",
       "      <td>NaN</td>\n",
       "      <td>2</td>\n",
       "    </tr>\n",
       "    <tr>\n",
       "      <th>internetservice</th>\n",
       "      <td>0</td>\n",
       "      <td>0.0</td>\n",
       "      <td>object</td>\n",
       "      <td>7043</td>\n",
       "      <td>NaN</td>\n",
       "      <td>NaN</td>\n",
       "      <td>No</td>\n",
       "      <td>DSL</td>\n",
       "      <td>NaN</td>\n",
       "      <td>3</td>\n",
       "    </tr>\n",
       "    <tr>\n",
       "      <th>monthlycharges</th>\n",
       "      <td>0</td>\n",
       "      <td>0.0</td>\n",
       "      <td>float64</td>\n",
       "      <td>7043</td>\n",
       "      <td>64.76</td>\n",
       "      <td>70.35</td>\n",
       "      <td>118.75</td>\n",
       "      <td>18.25</td>\n",
       "      <td>30.09</td>\n",
       "      <td>1585</td>\n",
       "    </tr>\n",
       "    <tr>\n",
       "      <th>multiplelines</th>\n",
       "      <td>0</td>\n",
       "      <td>0.0</td>\n",
       "      <td>object</td>\n",
       "      <td>7043</td>\n",
       "      <td>NaN</td>\n",
       "      <td>NaN</td>\n",
       "      <td>Yes</td>\n",
       "      <td>No</td>\n",
       "      <td>NaN</td>\n",
       "      <td>2</td>\n",
       "    </tr>\n",
       "    <tr>\n",
       "      <th>onlinebackup</th>\n",
       "      <td>0</td>\n",
       "      <td>0.0</td>\n",
       "      <td>object</td>\n",
       "      <td>7043</td>\n",
       "      <td>NaN</td>\n",
       "      <td>NaN</td>\n",
       "      <td>Yes</td>\n",
       "      <td>No</td>\n",
       "      <td>NaN</td>\n",
       "      <td>2</td>\n",
       "    </tr>\n",
       "    <tr>\n",
       "      <th>onlinesecurity</th>\n",
       "      <td>0</td>\n",
       "      <td>0.0</td>\n",
       "      <td>object</td>\n",
       "      <td>7043</td>\n",
       "      <td>NaN</td>\n",
       "      <td>NaN</td>\n",
       "      <td>Yes</td>\n",
       "      <td>No</td>\n",
       "      <td>NaN</td>\n",
       "      <td>2</td>\n",
       "    </tr>\n",
       "    <tr>\n",
       "      <th>paperlessbilling</th>\n",
       "      <td>0</td>\n",
       "      <td>0.0</td>\n",
       "      <td>object</td>\n",
       "      <td>7043</td>\n",
       "      <td>NaN</td>\n",
       "      <td>NaN</td>\n",
       "      <td>Yes</td>\n",
       "      <td>No</td>\n",
       "      <td>NaN</td>\n",
       "      <td>2</td>\n",
       "    </tr>\n",
       "    <tr>\n",
       "      <th>partner</th>\n",
       "      <td>0</td>\n",
       "      <td>0.0</td>\n",
       "      <td>object</td>\n",
       "      <td>7043</td>\n",
       "      <td>NaN</td>\n",
       "      <td>NaN</td>\n",
       "      <td>Yes</td>\n",
       "      <td>No</td>\n",
       "      <td>NaN</td>\n",
       "      <td>2</td>\n",
       "    </tr>\n",
       "    <tr>\n",
       "      <th>paymentmethod</th>\n",
       "      <td>0</td>\n",
       "      <td>0.0</td>\n",
       "      <td>object</td>\n",
       "      <td>7043</td>\n",
       "      <td>NaN</td>\n",
       "      <td>NaN</td>\n",
       "      <td>Mailed check</td>\n",
       "      <td>Bank transfer (automatic)</td>\n",
       "      <td>NaN</td>\n",
       "      <td>4</td>\n",
       "    </tr>\n",
       "    <tr>\n",
       "      <th>phoneservice</th>\n",
       "      <td>0</td>\n",
       "      <td>0.0</td>\n",
       "      <td>object</td>\n",
       "      <td>7043</td>\n",
       "      <td>NaN</td>\n",
       "      <td>NaN</td>\n",
       "      <td>Yes</td>\n",
       "      <td>No</td>\n",
       "      <td>NaN</td>\n",
       "      <td>2</td>\n",
       "    </tr>\n",
       "    <tr>\n",
       "      <th>seniorcitizen</th>\n",
       "      <td>0</td>\n",
       "      <td>0.0</td>\n",
       "      <td>int64</td>\n",
       "      <td>7043</td>\n",
       "      <td>0.16</td>\n",
       "      <td>0.00</td>\n",
       "      <td>1</td>\n",
       "      <td>0</td>\n",
       "      <td>0.37</td>\n",
       "      <td>2</td>\n",
       "    </tr>\n",
       "    <tr>\n",
       "      <th>streamingmovies</th>\n",
       "      <td>0</td>\n",
       "      <td>0.0</td>\n",
       "      <td>object</td>\n",
       "      <td>7043</td>\n",
       "      <td>NaN</td>\n",
       "      <td>NaN</td>\n",
       "      <td>Yes</td>\n",
       "      <td>No</td>\n",
       "      <td>NaN</td>\n",
       "      <td>2</td>\n",
       "    </tr>\n",
       "    <tr>\n",
       "      <th>streamingtv</th>\n",
       "      <td>0</td>\n",
       "      <td>0.0</td>\n",
       "      <td>object</td>\n",
       "      <td>7043</td>\n",
       "      <td>NaN</td>\n",
       "      <td>NaN</td>\n",
       "      <td>Yes</td>\n",
       "      <td>No</td>\n",
       "      <td>NaN</td>\n",
       "      <td>2</td>\n",
       "    </tr>\n",
       "    <tr>\n",
       "      <th>techsupport</th>\n",
       "      <td>0</td>\n",
       "      <td>0.0</td>\n",
       "      <td>object</td>\n",
       "      <td>7043</td>\n",
       "      <td>NaN</td>\n",
       "      <td>NaN</td>\n",
       "      <td>Yes</td>\n",
       "      <td>No</td>\n",
       "      <td>NaN</td>\n",
       "      <td>2</td>\n",
       "    </tr>\n",
       "    <tr>\n",
       "      <th>tenure</th>\n",
       "      <td>0</td>\n",
       "      <td>0.0</td>\n",
       "      <td>int64</td>\n",
       "      <td>7043</td>\n",
       "      <td>32.37</td>\n",
       "      <td>29.00</td>\n",
       "      <td>72</td>\n",
       "      <td>0</td>\n",
       "      <td>24.56</td>\n",
       "      <td>73</td>\n",
       "    </tr>\n",
       "    <tr>\n",
       "      <th>totalcharges</th>\n",
       "      <td>11</td>\n",
       "      <td>0.0</td>\n",
       "      <td>float64</td>\n",
       "      <td>7032</td>\n",
       "      <td>2283.30</td>\n",
       "      <td>1397.48</td>\n",
       "      <td>8684.8</td>\n",
       "      <td>18.8</td>\n",
       "      <td>2266.77</td>\n",
       "      <td>6531</td>\n",
       "    </tr>\n",
       "  </tbody>\n",
       "</table>\n",
       "</div>"
      ],
      "text/plain": [
       "                  Amount_NaN  %_NaN    DType  Amount_Data     Mean   Median  \\\n",
       "churn                      0    0.0   object         7043      NaN      NaN   \n",
       "contract                   0    0.0   object         7043      NaN      NaN   \n",
       "dependents                 0    0.0   object         7043      NaN      NaN   \n",
       "deviceprotection           0    0.0   object         7043      NaN      NaN   \n",
       "gender                     0    0.0   object         7043      NaN      NaN   \n",
       "internetservice            0    0.0   object         7043      NaN      NaN   \n",
       "monthlycharges             0    0.0  float64         7043    64.76    70.35   \n",
       "multiplelines              0    0.0   object         7043      NaN      NaN   \n",
       "onlinebackup               0    0.0   object         7043      NaN      NaN   \n",
       "onlinesecurity             0    0.0   object         7043      NaN      NaN   \n",
       "paperlessbilling           0    0.0   object         7043      NaN      NaN   \n",
       "partner                    0    0.0   object         7043      NaN      NaN   \n",
       "paymentmethod              0    0.0   object         7043      NaN      NaN   \n",
       "phoneservice               0    0.0   object         7043      NaN      NaN   \n",
       "seniorcitizen              0    0.0    int64         7043     0.16     0.00   \n",
       "streamingmovies            0    0.0   object         7043      NaN      NaN   \n",
       "streamingtv                0    0.0   object         7043      NaN      NaN   \n",
       "techsupport                0    0.0   object         7043      NaN      NaN   \n",
       "tenure                     0    0.0    int64         7043    32.37    29.00   \n",
       "totalcharges              11    0.0  float64         7032  2283.30  1397.48   \n",
       "\n",
       "                           Max                        Min      STD  \\\n",
       "churn                      Yes                         No      NaN   \n",
       "contract              Two year             Month-to-month      NaN   \n",
       "dependents                 Yes                         No      NaN   \n",
       "deviceprotection           Yes                         No      NaN   \n",
       "gender                    Male                     Female      NaN   \n",
       "internetservice             No                        DSL      NaN   \n",
       "monthlycharges          118.75                      18.25    30.09   \n",
       "multiplelines              Yes                         No      NaN   \n",
       "onlinebackup               Yes                         No      NaN   \n",
       "onlinesecurity             Yes                         No      NaN   \n",
       "paperlessbilling           Yes                         No      NaN   \n",
       "partner                    Yes                         No      NaN   \n",
       "paymentmethod     Mailed check  Bank transfer (automatic)      NaN   \n",
       "phoneservice               Yes                         No      NaN   \n",
       "seniorcitizen                1                          0     0.37   \n",
       "streamingmovies            Yes                         No      NaN   \n",
       "streamingtv                Yes                         No      NaN   \n",
       "techsupport                Yes                         No      NaN   \n",
       "tenure                      72                          0    24.56   \n",
       "totalcharges            8684.8                       18.8  2266.77   \n",
       "\n",
       "                  Amount_Unique  \n",
       "churn                         2  \n",
       "contract                      3  \n",
       "dependents                    2  \n",
       "deviceprotection              2  \n",
       "gender                        2  \n",
       "internetservice               3  \n",
       "monthlycharges             1585  \n",
       "multiplelines                 2  \n",
       "onlinebackup                  2  \n",
       "onlinesecurity                2  \n",
       "paperlessbilling              2  \n",
       "partner                       2  \n",
       "paymentmethod                 4  \n",
       "phoneservice                  2  \n",
       "seniorcitizen                 2  \n",
       "streamingmovies               2  \n",
       "streamingtv                   2  \n",
       "techsupport                   2  \n",
       "tenure                       73  \n",
       "totalcharges               6531  "
      ]
     },
     "execution_count": 37,
     "metadata": {},
     "output_type": "execute_result"
    },
    {
     "data": {
      "application/javascript": [
       "\n",
       "            setTimeout(function() {\n",
       "                var nbb_cell_id = 37;\n",
       "                var nbb_unformatted_code = \"#Fun\\u00e7\\u00e3o para an\\u00e1lise explorat\\u00f3ria \\ndef EDA (df):\\n    df= df.rename(columns=str.lower)\\n\\n    eda_df = {}\\n    eda_df['Amount_NaN'] = df.isnull().sum()\\n    eda_df['%_NaN'] = df.isnull().mean().round(2)\\n    eda_df['DType'] = df.dtypes\\n    eda_df['Amount_Data'] = df.count()\\n    \\n    colunas = sorted(df.columns.str.lower().tolist(), reverse=False)\\n    \\n    eda_df['Mean'] = np.round(df.mean(), 2)\\n    eda_df['Median'] = np.round(df.median(), 2)\\n    \\n    eda_df['Max'] = df.max()\\n    eda_df['Min'] = df.min()\\n    eda_df['STD'] = np.round(df.std(), 2)\\n    \\n    eda = pd.DataFrame(eda_df)\\n    \\n    eda['Amount_Unique'] = list(map(lambda x: len(df[x].unique().tolist()), colunas))\\n\\n    return eda\\n\\nEDA(df)\";\n",
       "                var nbb_formatted_code = \"# Fun\\u00e7\\u00e3o para an\\u00e1lise explorat\\u00f3ria\\ndef EDA(df):\\n    df = df.rename(columns=str.lower)\\n\\n    eda_df = {}\\n    eda_df[\\\"Amount_NaN\\\"] = df.isnull().sum()\\n    eda_df[\\\"%_NaN\\\"] = df.isnull().mean().round(2)\\n    eda_df[\\\"DType\\\"] = df.dtypes\\n    eda_df[\\\"Amount_Data\\\"] = df.count()\\n\\n    colunas = sorted(df.columns.str.lower().tolist(), reverse=False)\\n\\n    eda_df[\\\"Mean\\\"] = np.round(df.mean(), 2)\\n    eda_df[\\\"Median\\\"] = np.round(df.median(), 2)\\n\\n    eda_df[\\\"Max\\\"] = df.max()\\n    eda_df[\\\"Min\\\"] = df.min()\\n    eda_df[\\\"STD\\\"] = np.round(df.std(), 2)\\n\\n    eda = pd.DataFrame(eda_df)\\n\\n    eda[\\\"Amount_Unique\\\"] = list(map(lambda x: len(df[x].unique().tolist()), colunas))\\n\\n    return eda\\n\\n\\nEDA(df)\";\n",
       "                var nbb_cells = Jupyter.notebook.get_cells();\n",
       "                for (var i = 0; i < nbb_cells.length; ++i) {\n",
       "                    if (nbb_cells[i].input_prompt_number == nbb_cell_id) {\n",
       "                        if (nbb_cells[i].get_text() == nbb_unformatted_code) {\n",
       "                             nbb_cells[i].set_text(nbb_formatted_code);\n",
       "                        }\n",
       "                        break;\n",
       "                    }\n",
       "                }\n",
       "            }, 500);\n",
       "            "
      ],
      "text/plain": [
       "<IPython.core.display.Javascript object>"
      ]
     },
     "metadata": {},
     "output_type": "display_data"
    }
   ],
   "source": [
    "#Função para análise exploratória \n",
    "def EDA (df):\n",
    "    df= df.rename(columns=str.lower)\n",
    "\n",
    "    eda_df = {}\n",
    "    eda_df['Amount_NaN'] = df.isnull().sum()\n",
    "    eda_df['%_NaN'] = df.isnull().mean().round(2)\n",
    "    eda_df['DType'] = df.dtypes\n",
    "    eda_df['Amount_Data'] = df.count()\n",
    "    \n",
    "    colunas = sorted(df.columns.str.lower().tolist(), reverse=False)\n",
    "    \n",
    "    eda_df['Mean'] = np.round(df.mean(), 2)\n",
    "    eda_df['Median'] = np.round(df.median(), 2)\n",
    "    \n",
    "    eda_df['Max'] = df.max()\n",
    "    eda_df['Min'] = df.min()\n",
    "    eda_df['STD'] = np.round(df.std(), 2)\n",
    "    \n",
    "    eda = pd.DataFrame(eda_df)\n",
    "    \n",
    "    eda['Amount_Unique'] = list(map(lambda x: len(df[x].unique().tolist()), colunas))\n",
    "\n",
    "    return eda\n",
    "\n",
    "EDA(df)"
   ]
  },
  {
   "cell_type": "code",
   "execution_count": 4,
   "id": "4bb52a72-35be-4081-81e0-1855d31c6c1b",
   "metadata": {},
   "outputs": [
    {
     "name": "stdout",
     "output_type": "stream",
     "text": [
      "<class 'pandas.core.frame.DataFrame'>\n",
      "RangeIndex: 7043 entries, 0 to 7042\n",
      "Data columns (total 21 columns):\n",
      " #   Column            Non-Null Count  Dtype  \n",
      "---  ------            --------------  -----  \n",
      " 0   customerID        7043 non-null   object \n",
      " 1   gender            7043 non-null   object \n",
      " 2   SeniorCitizen     7043 non-null   int64  \n",
      " 3   Partner           7043 non-null   object \n",
      " 4   Dependents        7043 non-null   object \n",
      " 5   tenure            7043 non-null   int64  \n",
      " 6   PhoneService      7043 non-null   object \n",
      " 7   MultipleLines     7043 non-null   object \n",
      " 8   InternetService   7043 non-null   object \n",
      " 9   OnlineSecurity    7043 non-null   object \n",
      " 10  OnlineBackup      7043 non-null   object \n",
      " 11  DeviceProtection  7043 non-null   object \n",
      " 12  TechSupport       7043 non-null   object \n",
      " 13  StreamingTV       7043 non-null   object \n",
      " 14  StreamingMovies   7043 non-null   object \n",
      " 15  Contract          7043 non-null   object \n",
      " 16  PaperlessBilling  7043 non-null   object \n",
      " 17  PaymentMethod     7043 non-null   object \n",
      " 18  MonthlyCharges    7043 non-null   float64\n",
      " 19  TotalCharges      7043 non-null   object \n",
      " 20  Churn             7043 non-null   object \n",
      "dtypes: float64(1), int64(2), object(18)\n",
      "memory usage: 1.1+ MB\n"
     ]
    },
    {
     "data": {
      "application/javascript": [
       "\n",
       "            setTimeout(function() {\n",
       "                var nbb_cell_id = 4;\n",
       "                var nbb_unformatted_code = \"df.info()\";\n",
       "                var nbb_formatted_code = \"df.info()\";\n",
       "                var nbb_cells = Jupyter.notebook.get_cells();\n",
       "                for (var i = 0; i < nbb_cells.length; ++i) {\n",
       "                    if (nbb_cells[i].input_prompt_number == nbb_cell_id) {\n",
       "                        if (nbb_cells[i].get_text() == nbb_unformatted_code) {\n",
       "                             nbb_cells[i].set_text(nbb_formatted_code);\n",
       "                        }\n",
       "                        break;\n",
       "                    }\n",
       "                }\n",
       "            }, 500);\n",
       "            "
      ],
      "text/plain": [
       "<IPython.core.display.Javascript object>"
      ]
     },
     "metadata": {},
     "output_type": "display_data"
    }
   ],
   "source": [
    "df.info()"
   ]
  },
  {
   "cell_type": "code",
   "execution_count": 5,
   "id": "816d8960-f8e7-48eb-a238-ad5c69fe8b0f",
   "metadata": {},
   "outputs": [
    {
     "data": {
      "text/html": [
       "<div>\n",
       "<style scoped>\n",
       "    .dataframe tbody tr th:only-of-type {\n",
       "        vertical-align: middle;\n",
       "    }\n",
       "\n",
       "    .dataframe tbody tr th {\n",
       "        vertical-align: top;\n",
       "    }\n",
       "\n",
       "    .dataframe thead th {\n",
       "        text-align: right;\n",
       "    }\n",
       "</style>\n",
       "<table border=\"1\" class=\"dataframe\">\n",
       "  <thead>\n",
       "    <tr style=\"text-align: right;\">\n",
       "      <th></th>\n",
       "      <th>SeniorCitizen</th>\n",
       "      <th>tenure</th>\n",
       "      <th>MonthlyCharges</th>\n",
       "    </tr>\n",
       "  </thead>\n",
       "  <tbody>\n",
       "    <tr>\n",
       "      <th>count</th>\n",
       "      <td>7043.000000</td>\n",
       "      <td>7043.000000</td>\n",
       "      <td>7043.000000</td>\n",
       "    </tr>\n",
       "    <tr>\n",
       "      <th>mean</th>\n",
       "      <td>0.162147</td>\n",
       "      <td>32.371149</td>\n",
       "      <td>64.761692</td>\n",
       "    </tr>\n",
       "    <tr>\n",
       "      <th>std</th>\n",
       "      <td>0.368612</td>\n",
       "      <td>24.559481</td>\n",
       "      <td>30.090047</td>\n",
       "    </tr>\n",
       "    <tr>\n",
       "      <th>min</th>\n",
       "      <td>0.000000</td>\n",
       "      <td>0.000000</td>\n",
       "      <td>18.250000</td>\n",
       "    </tr>\n",
       "    <tr>\n",
       "      <th>25%</th>\n",
       "      <td>0.000000</td>\n",
       "      <td>9.000000</td>\n",
       "      <td>35.500000</td>\n",
       "    </tr>\n",
       "    <tr>\n",
       "      <th>50%</th>\n",
       "      <td>0.000000</td>\n",
       "      <td>29.000000</td>\n",
       "      <td>70.350000</td>\n",
       "    </tr>\n",
       "    <tr>\n",
       "      <th>75%</th>\n",
       "      <td>0.000000</td>\n",
       "      <td>55.000000</td>\n",
       "      <td>89.850000</td>\n",
       "    </tr>\n",
       "    <tr>\n",
       "      <th>max</th>\n",
       "      <td>1.000000</td>\n",
       "      <td>72.000000</td>\n",
       "      <td>118.750000</td>\n",
       "    </tr>\n",
       "  </tbody>\n",
       "</table>\n",
       "</div>"
      ],
      "text/plain": [
       "       SeniorCitizen       tenure  MonthlyCharges\n",
       "count    7043.000000  7043.000000     7043.000000\n",
       "mean        0.162147    32.371149       64.761692\n",
       "std         0.368612    24.559481       30.090047\n",
       "min         0.000000     0.000000       18.250000\n",
       "25%         0.000000     9.000000       35.500000\n",
       "50%         0.000000    29.000000       70.350000\n",
       "75%         0.000000    55.000000       89.850000\n",
       "max         1.000000    72.000000      118.750000"
      ]
     },
     "execution_count": 5,
     "metadata": {},
     "output_type": "execute_result"
    },
    {
     "data": {
      "application/javascript": [
       "\n",
       "            setTimeout(function() {\n",
       "                var nbb_cell_id = 5;\n",
       "                var nbb_unformatted_code = \"df.describe()\";\n",
       "                var nbb_formatted_code = \"df.describe()\";\n",
       "                var nbb_cells = Jupyter.notebook.get_cells();\n",
       "                for (var i = 0; i < nbb_cells.length; ++i) {\n",
       "                    if (nbb_cells[i].input_prompt_number == nbb_cell_id) {\n",
       "                        if (nbb_cells[i].get_text() == nbb_unformatted_code) {\n",
       "                             nbb_cells[i].set_text(nbb_formatted_code);\n",
       "                        }\n",
       "                        break;\n",
       "                    }\n",
       "                }\n",
       "            }, 500);\n",
       "            "
      ],
      "text/plain": [
       "<IPython.core.display.Javascript object>"
      ]
     },
     "metadata": {},
     "output_type": "display_data"
    }
   ],
   "source": [
    "df.describe()"
   ]
  },
  {
   "cell_type": "markdown",
   "id": "4907d01f-b2a3-4929-96a9-7b22e415e180",
   "metadata": {},
   "source": [
    "Observações do EDA\n",
    "\n",
    "- apenas 3 variáveis numéricas  (SeniorCitizen | tenure | MonthlyCharges)  int | int | flot  \n",
    "- 17 variáveis como objects | binárias ou categoricas\n",
    "- nenhum dado faltante\n",
    " \n"
   ]
  },
  {
   "cell_type": "code",
   "execution_count": 6,
   "id": "ef5c8cee-20d3-4f4e-b9a9-ad62d7cea36c",
   "metadata": {},
   "outputs": [
    {
     "data": {
      "text/html": [
       "<div>\n",
       "<style scoped>\n",
       "    .dataframe tbody tr th:only-of-type {\n",
       "        vertical-align: middle;\n",
       "    }\n",
       "\n",
       "    .dataframe tbody tr th {\n",
       "        vertical-align: top;\n",
       "    }\n",
       "\n",
       "    .dataframe thead th {\n",
       "        text-align: right;\n",
       "    }\n",
       "</style>\n",
       "<table border=\"1\" class=\"dataframe\">\n",
       "  <thead>\n",
       "    <tr style=\"text-align: right;\">\n",
       "      <th></th>\n",
       "      <th>customerID</th>\n",
       "      <th>gender</th>\n",
       "      <th>SeniorCitizen</th>\n",
       "      <th>Partner</th>\n",
       "      <th>Dependents</th>\n",
       "      <th>tenure</th>\n",
       "      <th>PhoneService</th>\n",
       "      <th>MultipleLines</th>\n",
       "      <th>InternetService</th>\n",
       "      <th>OnlineSecurity</th>\n",
       "      <th>...</th>\n",
       "      <th>DeviceProtection</th>\n",
       "      <th>TechSupport</th>\n",
       "      <th>StreamingTV</th>\n",
       "      <th>StreamingMovies</th>\n",
       "      <th>Contract</th>\n",
       "      <th>PaperlessBilling</th>\n",
       "      <th>PaymentMethod</th>\n",
       "      <th>MonthlyCharges</th>\n",
       "      <th>TotalCharges</th>\n",
       "      <th>Churn</th>\n",
       "    </tr>\n",
       "  </thead>\n",
       "  <tbody>\n",
       "    <tr>\n",
       "      <th>0</th>\n",
       "      <td>7590-VHVEG</td>\n",
       "      <td>Female</td>\n",
       "      <td>0</td>\n",
       "      <td>Yes</td>\n",
       "      <td>No</td>\n",
       "      <td>1</td>\n",
       "      <td>No</td>\n",
       "      <td>No phone service</td>\n",
       "      <td>DSL</td>\n",
       "      <td>No</td>\n",
       "      <td>...</td>\n",
       "      <td>No</td>\n",
       "      <td>No</td>\n",
       "      <td>No</td>\n",
       "      <td>No</td>\n",
       "      <td>Month-to-month</td>\n",
       "      <td>Yes</td>\n",
       "      <td>Electronic check</td>\n",
       "      <td>29.85</td>\n",
       "      <td>29.85</td>\n",
       "      <td>No</td>\n",
       "    </tr>\n",
       "    <tr>\n",
       "      <th>1</th>\n",
       "      <td>5575-GNVDE</td>\n",
       "      <td>Male</td>\n",
       "      <td>0</td>\n",
       "      <td>No</td>\n",
       "      <td>No</td>\n",
       "      <td>34</td>\n",
       "      <td>Yes</td>\n",
       "      <td>No</td>\n",
       "      <td>DSL</td>\n",
       "      <td>Yes</td>\n",
       "      <td>...</td>\n",
       "      <td>Yes</td>\n",
       "      <td>No</td>\n",
       "      <td>No</td>\n",
       "      <td>No</td>\n",
       "      <td>One year</td>\n",
       "      <td>No</td>\n",
       "      <td>Mailed check</td>\n",
       "      <td>56.95</td>\n",
       "      <td>1889.5</td>\n",
       "      <td>No</td>\n",
       "    </tr>\n",
       "    <tr>\n",
       "      <th>2</th>\n",
       "      <td>3668-QPYBK</td>\n",
       "      <td>Male</td>\n",
       "      <td>0</td>\n",
       "      <td>No</td>\n",
       "      <td>No</td>\n",
       "      <td>2</td>\n",
       "      <td>Yes</td>\n",
       "      <td>No</td>\n",
       "      <td>DSL</td>\n",
       "      <td>Yes</td>\n",
       "      <td>...</td>\n",
       "      <td>No</td>\n",
       "      <td>No</td>\n",
       "      <td>No</td>\n",
       "      <td>No</td>\n",
       "      <td>Month-to-month</td>\n",
       "      <td>Yes</td>\n",
       "      <td>Mailed check</td>\n",
       "      <td>53.85</td>\n",
       "      <td>108.15</td>\n",
       "      <td>Yes</td>\n",
       "    </tr>\n",
       "    <tr>\n",
       "      <th>3</th>\n",
       "      <td>7795-CFOCW</td>\n",
       "      <td>Male</td>\n",
       "      <td>0</td>\n",
       "      <td>No</td>\n",
       "      <td>No</td>\n",
       "      <td>45</td>\n",
       "      <td>No</td>\n",
       "      <td>No phone service</td>\n",
       "      <td>DSL</td>\n",
       "      <td>Yes</td>\n",
       "      <td>...</td>\n",
       "      <td>Yes</td>\n",
       "      <td>Yes</td>\n",
       "      <td>No</td>\n",
       "      <td>No</td>\n",
       "      <td>One year</td>\n",
       "      <td>No</td>\n",
       "      <td>Bank transfer (automatic)</td>\n",
       "      <td>42.30</td>\n",
       "      <td>1840.75</td>\n",
       "      <td>No</td>\n",
       "    </tr>\n",
       "    <tr>\n",
       "      <th>4</th>\n",
       "      <td>9237-HQITU</td>\n",
       "      <td>Female</td>\n",
       "      <td>0</td>\n",
       "      <td>No</td>\n",
       "      <td>No</td>\n",
       "      <td>2</td>\n",
       "      <td>Yes</td>\n",
       "      <td>No</td>\n",
       "      <td>Fiber optic</td>\n",
       "      <td>No</td>\n",
       "      <td>...</td>\n",
       "      <td>No</td>\n",
       "      <td>No</td>\n",
       "      <td>No</td>\n",
       "      <td>No</td>\n",
       "      <td>Month-to-month</td>\n",
       "      <td>Yes</td>\n",
       "      <td>Electronic check</td>\n",
       "      <td>70.70</td>\n",
       "      <td>151.65</td>\n",
       "      <td>Yes</td>\n",
       "    </tr>\n",
       "  </tbody>\n",
       "</table>\n",
       "<p>5 rows × 21 columns</p>\n",
       "</div>"
      ],
      "text/plain": [
       "   customerID  gender  SeniorCitizen Partner Dependents  tenure PhoneService  \\\n",
       "0  7590-VHVEG  Female              0     Yes         No       1           No   \n",
       "1  5575-GNVDE    Male              0      No         No      34          Yes   \n",
       "2  3668-QPYBK    Male              0      No         No       2          Yes   \n",
       "3  7795-CFOCW    Male              0      No         No      45           No   \n",
       "4  9237-HQITU  Female              0      No         No       2          Yes   \n",
       "\n",
       "      MultipleLines InternetService OnlineSecurity  ... DeviceProtection  \\\n",
       "0  No phone service             DSL             No  ...               No   \n",
       "1                No             DSL            Yes  ...              Yes   \n",
       "2                No             DSL            Yes  ...               No   \n",
       "3  No phone service             DSL            Yes  ...              Yes   \n",
       "4                No     Fiber optic             No  ...               No   \n",
       "\n",
       "  TechSupport StreamingTV StreamingMovies        Contract PaperlessBilling  \\\n",
       "0          No          No              No  Month-to-month              Yes   \n",
       "1          No          No              No        One year               No   \n",
       "2          No          No              No  Month-to-month              Yes   \n",
       "3         Yes          No              No        One year               No   \n",
       "4          No          No              No  Month-to-month              Yes   \n",
       "\n",
       "               PaymentMethod MonthlyCharges  TotalCharges Churn  \n",
       "0           Electronic check          29.85         29.85    No  \n",
       "1               Mailed check          56.95        1889.5    No  \n",
       "2               Mailed check          53.85        108.15   Yes  \n",
       "3  Bank transfer (automatic)          42.30       1840.75    No  \n",
       "4           Electronic check          70.70        151.65   Yes  \n",
       "\n",
       "[5 rows x 21 columns]"
      ]
     },
     "execution_count": 6,
     "metadata": {},
     "output_type": "execute_result"
    },
    {
     "data": {
      "application/javascript": [
       "\n",
       "            setTimeout(function() {\n",
       "                var nbb_cell_id = 6;\n",
       "                var nbb_unformatted_code = \"df.head()\";\n",
       "                var nbb_formatted_code = \"df.head()\";\n",
       "                var nbb_cells = Jupyter.notebook.get_cells();\n",
       "                for (var i = 0; i < nbb_cells.length; ++i) {\n",
       "                    if (nbb_cells[i].input_prompt_number == nbb_cell_id) {\n",
       "                        if (nbb_cells[i].get_text() == nbb_unformatted_code) {\n",
       "                             nbb_cells[i].set_text(nbb_formatted_code);\n",
       "                        }\n",
       "                        break;\n",
       "                    }\n",
       "                }\n",
       "            }, 500);\n",
       "            "
      ],
      "text/plain": [
       "<IPython.core.display.Javascript object>"
      ]
     },
     "metadata": {},
     "output_type": "display_data"
    }
   ],
   "source": [
    "df.head()"
   ]
  },
  {
   "cell_type": "code",
   "execution_count": 7,
   "id": "0e714b25-2ca9-4a6c-9d85-2cd0668f35da",
   "metadata": {},
   "outputs": [
    {
     "data": {
      "text/plain": [
       "['customerID',\n",
       " 'gender',\n",
       " 'SeniorCitizen',\n",
       " 'Partner',\n",
       " 'Dependents',\n",
       " 'tenure',\n",
       " 'PhoneService',\n",
       " 'MultipleLines',\n",
       " 'InternetService',\n",
       " 'OnlineSecurity',\n",
       " 'OnlineBackup',\n",
       " 'DeviceProtection',\n",
       " 'TechSupport',\n",
       " 'StreamingTV',\n",
       " 'StreamingMovies',\n",
       " 'Contract',\n",
       " 'PaperlessBilling',\n",
       " 'PaymentMethod',\n",
       " 'MonthlyCharges',\n",
       " 'TotalCharges',\n",
       " 'Churn']"
      ]
     },
     "execution_count": 7,
     "metadata": {},
     "output_type": "execute_result"
    },
    {
     "data": {
      "application/javascript": [
       "\n",
       "            setTimeout(function() {\n",
       "                var nbb_cell_id = 7;\n",
       "                var nbb_unformatted_code = \"list(df.columns)\";\n",
       "                var nbb_formatted_code = \"list(df.columns)\";\n",
       "                var nbb_cells = Jupyter.notebook.get_cells();\n",
       "                for (var i = 0; i < nbb_cells.length; ++i) {\n",
       "                    if (nbb_cells[i].input_prompt_number == nbb_cell_id) {\n",
       "                        if (nbb_cells[i].get_text() == nbb_unformatted_code) {\n",
       "                             nbb_cells[i].set_text(nbb_formatted_code);\n",
       "                        }\n",
       "                        break;\n",
       "                    }\n",
       "                }\n",
       "            }, 500);\n",
       "            "
      ],
      "text/plain": [
       "<IPython.core.display.Javascript object>"
      ]
     },
     "metadata": {},
     "output_type": "display_data"
    }
   ],
   "source": [
    "list(df.columns)"
   ]
  },
  {
   "cell_type": "code",
   "execution_count": 8,
   "id": "f024623d-a4fe-4c02-a2c9-e4635ef63557",
   "metadata": {},
   "outputs": [
    {
     "data": {
      "application/javascript": [
       "\n",
       "            setTimeout(function() {\n",
       "                var nbb_cell_id = 8;\n",
       "                var nbb_unformatted_code = \"df.drop('customerID', axis= 1, inplace=True)\";\n",
       "                var nbb_formatted_code = \"df.drop(\\\"customerID\\\", axis=1, inplace=True)\";\n",
       "                var nbb_cells = Jupyter.notebook.get_cells();\n",
       "                for (var i = 0; i < nbb_cells.length; ++i) {\n",
       "                    if (nbb_cells[i].input_prompt_number == nbb_cell_id) {\n",
       "                        if (nbb_cells[i].get_text() == nbb_unformatted_code) {\n",
       "                             nbb_cells[i].set_text(nbb_formatted_code);\n",
       "                        }\n",
       "                        break;\n",
       "                    }\n",
       "                }\n",
       "            }, 500);\n",
       "            "
      ],
      "text/plain": [
       "<IPython.core.display.Javascript object>"
      ]
     },
     "metadata": {},
     "output_type": "display_data"
    }
   ],
   "source": [
    "df.drop('customerID', axis= 1, inplace=True)"
   ]
  },
  {
   "cell_type": "code",
   "execution_count": 9,
   "id": "dffc9909-b95c-4ab2-8e67-8b54b3cecb7c",
   "metadata": {},
   "outputs": [
    {
     "data": {
      "text/plain": [
       "(7032, 20)"
      ]
     },
     "execution_count": 9,
     "metadata": {},
     "output_type": "execute_result"
    },
    {
     "data": {
      "application/javascript": [
       "\n",
       "            setTimeout(function() {\n",
       "                var nbb_cell_id = 9;\n",
       "                var nbb_unformatted_code = \"#Verificando a coluna TotalCharges\\ndf[df['TotalCharges'] != ' '].shape\";\n",
       "                var nbb_formatted_code = \"# Verificando a coluna TotalCharges\\ndf[df[\\\"TotalCharges\\\"] != \\\" \\\"].shape\";\n",
       "                var nbb_cells = Jupyter.notebook.get_cells();\n",
       "                for (var i = 0; i < nbb_cells.length; ++i) {\n",
       "                    if (nbb_cells[i].input_prompt_number == nbb_cell_id) {\n",
       "                        if (nbb_cells[i].get_text() == nbb_unformatted_code) {\n",
       "                             nbb_cells[i].set_text(nbb_formatted_code);\n",
       "                        }\n",
       "                        break;\n",
       "                    }\n",
       "                }\n",
       "            }, 500);\n",
       "            "
      ],
      "text/plain": [
       "<IPython.core.display.Javascript object>"
      ]
     },
     "metadata": {},
     "output_type": "display_data"
    }
   ],
   "source": [
    "#Verificando a coluna TotalCharges\n",
    "df[df['TotalCharges'] != ' '].shape"
   ]
  },
  {
   "cell_type": "code",
   "execution_count": 10,
   "id": "f6d367ed-0762-4a50-8bd2-a52ecd4e0201",
   "metadata": {},
   "outputs": [
    {
     "data": {
      "application/javascript": [
       "\n",
       "            setTimeout(function() {\n",
       "                var nbb_cell_id = 10;\n",
       "                var nbb_unformatted_code = \"#transforma\\u00e7\\u00e3o de SeniorCitizen em dtype\\n#transforma\\u00e7\\u00e3o de TotalCharges em dtype\\ndf['SeniorCitizen'] = df['SeniorCitizen'].astype(int)\\ndf['TotalCharges'].replace(' ', '', inplace=True)\\ndf['TotalCharges'] = pd.to_numeric(df['TotalCharges'])\";\n",
       "                var nbb_formatted_code = \"# transforma\\u00e7\\u00e3o de SeniorCitizen em dtype\\n# transforma\\u00e7\\u00e3o de TotalCharges em dtype\\ndf[\\\"SeniorCitizen\\\"] = df[\\\"SeniorCitizen\\\"].astype(int)\\ndf[\\\"TotalCharges\\\"].replace(\\\" \\\", \\\"\\\", inplace=True)\\ndf[\\\"TotalCharges\\\"] = pd.to_numeric(df[\\\"TotalCharges\\\"])\";\n",
       "                var nbb_cells = Jupyter.notebook.get_cells();\n",
       "                for (var i = 0; i < nbb_cells.length; ++i) {\n",
       "                    if (nbb_cells[i].input_prompt_number == nbb_cell_id) {\n",
       "                        if (nbb_cells[i].get_text() == nbb_unformatted_code) {\n",
       "                             nbb_cells[i].set_text(nbb_formatted_code);\n",
       "                        }\n",
       "                        break;\n",
       "                    }\n",
       "                }\n",
       "            }, 500);\n",
       "            "
      ],
      "text/plain": [
       "<IPython.core.display.Javascript object>"
      ]
     },
     "metadata": {},
     "output_type": "display_data"
    }
   ],
   "source": [
    "#transformação de SeniorCitizen em dtype\n",
    "#transformação de TotalCharges em dtype\n",
    "df['SeniorCitizen'] = df['SeniorCitizen'].astype(int)\n",
    "df['TotalCharges'].replace(' ', '', inplace=True)\n",
    "df['TotalCharges'] = pd.to_numeric(df['TotalCharges'])"
   ]
  },
  {
   "cell_type": "code",
   "execution_count": 11,
   "id": "2f1cff6e-5146-4887-a871-94b978c88238",
   "metadata": {
    "tags": []
   },
   "outputs": [
    {
     "name": "stdout",
     "output_type": "stream",
     "text": [
      "gender : ['Female' 'Male']\n",
      "Partner : ['Yes' 'No']\n",
      "Dependents : ['No' 'Yes']\n",
      "PhoneService : ['No' 'Yes']\n",
      "MultipleLines : ['No phone service' 'No' 'Yes']\n",
      "InternetService : ['DSL' 'Fiber optic' 'No']\n",
      "OnlineSecurity : ['No' 'Yes' 'No internet service']\n",
      "OnlineBackup : ['Yes' 'No' 'No internet service']\n",
      "DeviceProtection : ['No' 'Yes' 'No internet service']\n",
      "TechSupport : ['No' 'Yes' 'No internet service']\n",
      "StreamingTV : ['No' 'Yes' 'No internet service']\n",
      "StreamingMovies : ['No' 'Yes' 'No internet service']\n",
      "Contract : ['Month-to-month' 'One year' 'Two year']\n",
      "PaperlessBilling : ['Yes' 'No']\n",
      "PaymentMethod : ['Electronic check' 'Mailed check' 'Bank transfer (automatic)'\n",
      " 'Credit card (automatic)']\n",
      "Churn : ['No' 'Yes']\n"
     ]
    },
    {
     "data": {
      "application/javascript": [
       "\n",
       "            setTimeout(function() {\n",
       "                var nbb_cell_id = 11;\n",
       "                var nbb_unformatted_code = \"def dataobj(df):\\n    for i in df:\\n        if df[i].dtypes == 'object':\\n            print(f'{i} : {df[i].unique()}')\\n            \\ndataobj(df)\";\n",
       "                var nbb_formatted_code = \"def dataobj(df):\\n    for i in df:\\n        if df[i].dtypes == \\\"object\\\":\\n            print(f\\\"{i} : {df[i].unique()}\\\")\\n\\n\\ndataobj(df)\";\n",
       "                var nbb_cells = Jupyter.notebook.get_cells();\n",
       "                for (var i = 0; i < nbb_cells.length; ++i) {\n",
       "                    if (nbb_cells[i].input_prompt_number == nbb_cell_id) {\n",
       "                        if (nbb_cells[i].get_text() == nbb_unformatted_code) {\n",
       "                             nbb_cells[i].set_text(nbb_formatted_code);\n",
       "                        }\n",
       "                        break;\n",
       "                    }\n",
       "                }\n",
       "            }, 500);\n",
       "            "
      ],
      "text/plain": [
       "<IPython.core.display.Javascript object>"
      ]
     },
     "metadata": {},
     "output_type": "display_data"
    }
   ],
   "source": [
    "def dataobj(df):\n",
    "    for i in df:\n",
    "        if df[i].dtypes == 'object':\n",
    "            print(f'{i} : {df[i].unique()}')\n",
    "            \n",
    "dataobj(df)"
   ]
  },
  {
   "cell_type": "code",
   "execution_count": 12,
   "id": "33bdcf5f-8cf1-47e9-aadc-3ed01bca7dc1",
   "metadata": {},
   "outputs": [
    {
     "data": {
      "application/javascript": [
       "\n",
       "            setTimeout(function() {\n",
       "                var nbb_cell_id = 12;\n",
       "                var nbb_unformatted_code = \"df.replace('No phone service', 'No', inplace=True)\\ndf.replace('No internet service', 'No', inplace=True)\";\n",
       "                var nbb_formatted_code = \"df.replace(\\\"No phone service\\\", \\\"No\\\", inplace=True)\\ndf.replace(\\\"No internet service\\\", \\\"No\\\", inplace=True)\";\n",
       "                var nbb_cells = Jupyter.notebook.get_cells();\n",
       "                for (var i = 0; i < nbb_cells.length; ++i) {\n",
       "                    if (nbb_cells[i].input_prompt_number == nbb_cell_id) {\n",
       "                        if (nbb_cells[i].get_text() == nbb_unformatted_code) {\n",
       "                             nbb_cells[i].set_text(nbb_formatted_code);\n",
       "                        }\n",
       "                        break;\n",
       "                    }\n",
       "                }\n",
       "            }, 500);\n",
       "            "
      ],
      "text/plain": [
       "<IPython.core.display.Javascript object>"
      ]
     },
     "metadata": {},
     "output_type": "display_data"
    }
   ],
   "source": [
    "df.replace('No phone service', 'No', inplace=True)\n",
    "df.replace('No internet service', 'No', inplace=True)"
   ]
  },
  {
   "cell_type": "markdown",
   "id": "48a65981-4d4c-4be3-957e-5cfa0e9b5b31",
   "metadata": {},
   "source": [
    "# EDA"
   ]
  },
  {
   "cell_type": "code",
   "execution_count": 13,
   "id": "a735baa4-a081-4dd9-bbc9-e73c589b402a",
   "metadata": {
    "jupyter": {
     "source_hidden": true
    },
    "tags": []
   },
   "outputs": [
    {
     "name": "stdout",
     "output_type": "stream",
     "text": [
      "<class 'pandas.core.frame.DataFrame'>\n",
      "RangeIndex: 7043 entries, 0 to 7042\n",
      "Data columns (total 20 columns):\n",
      " #   Column            Non-Null Count  Dtype  \n",
      "---  ------            --------------  -----  \n",
      " 0   gender            7043 non-null   object \n",
      " 1   SeniorCitizen     7043 non-null   int64  \n",
      " 2   Partner           7043 non-null   object \n",
      " 3   Dependents        7043 non-null   object \n",
      " 4   tenure            7043 non-null   int64  \n",
      " 5   PhoneService      7043 non-null   object \n",
      " 6   MultipleLines     7043 non-null   object \n",
      " 7   InternetService   7043 non-null   object \n",
      " 8   OnlineSecurity    7043 non-null   object \n",
      " 9   OnlineBackup      7043 non-null   object \n",
      " 10  DeviceProtection  7043 non-null   object \n",
      " 11  TechSupport       7043 non-null   object \n",
      " 12  StreamingTV       7043 non-null   object \n",
      " 13  StreamingMovies   7043 non-null   object \n",
      " 14  Contract          7043 non-null   object \n",
      " 15  PaperlessBilling  7043 non-null   object \n",
      " 16  PaymentMethod     7043 non-null   object \n",
      " 17  MonthlyCharges    7043 non-null   float64\n",
      " 18  TotalCharges      7032 non-null   float64\n",
      " 19  Churn             7043 non-null   object \n",
      "dtypes: float64(2), int64(2), object(16)\n",
      "memory usage: 1.1+ MB\n"
     ]
    },
    {
     "data": {
      "application/javascript": [
       "\n",
       "            setTimeout(function() {\n",
       "                var nbb_cell_id = 13;\n",
       "                var nbb_unformatted_code = \"df.info()\";\n",
       "                var nbb_formatted_code = \"df.info()\";\n",
       "                var nbb_cells = Jupyter.notebook.get_cells();\n",
       "                for (var i = 0; i < nbb_cells.length; ++i) {\n",
       "                    if (nbb_cells[i].input_prompt_number == nbb_cell_id) {\n",
       "                        if (nbb_cells[i].get_text() == nbb_unformatted_code) {\n",
       "                             nbb_cells[i].set_text(nbb_formatted_code);\n",
       "                        }\n",
       "                        break;\n",
       "                    }\n",
       "                }\n",
       "            }, 500);\n",
       "            "
      ],
      "text/plain": [
       "<IPython.core.display.Javascript object>"
      ]
     },
     "metadata": {},
     "output_type": "display_data"
    }
   ],
   "source": [
    "df.info()"
   ]
  },
  {
   "cell_type": "code",
   "execution_count": 14,
   "id": "704c1bc4-c084-4a8c-adc6-09b996ca1315",
   "metadata": {
    "jupyter": {
     "source_hidden": true
    },
    "tags": []
   },
   "outputs": [
    {
     "data": {
      "image/png": "[encoded data removed]",
      "text/plain": [
       "<Figure size 1440x1368 with 4 Axes>"
      ]
     },
     "metadata": {},
     "output_type": "display_data"
    },
    {
     "data": {
      "application/javascript": [
       "\n",
       "            setTimeout(function() {\n",
       "                var nbb_cell_id = 14;\n",
       "                var nbb_unformatted_code = \"genero = df['gender'].value_counts(normalize=True)\\nidoso = df['SeniorCitizen'].value_counts(normalize=True)\\nest_civil = df['Partner'].value_counts(normalize=True)\\nfilhos = df['Dependents'].value_counts(normalize=True)\\n\\ncolors1 = ['goldenrod', 'bisque']\\ncolors2 = ['seagreen', 'lightpink']\\n\\n\\n\\n\\nexplode =[0, 0.03]\\n\\nfig, ax  = plt.subplots(1,4, figsize=(20,19))\\nax[0].pie(genero,labels=['Male', 'Female'], autopct='%.2f%%', shadow=True, colors=colors1, explode=explode, startangle=60)\\nax[0].set(title='Gender')\\n\\nax[1].pie(idoso,labels=['No', 'Yes'], autopct='%.2f%%', shadow=True, colors=colors2, explode=explode, startangle=60)\\nax[1].set(title='Senior Citizen')\\n\\nax[2].pie(est_civil,labels=['No', 'Yes'], autopct='%.2f%%', shadow=True, colors=colors1, explode=explode, startangle=60)\\nax[2].set(title='Partner')\\n\\n\\nax[3].pie(filhos,labels=['No', 'Yes'], autopct='%.2f%%', shadow=True, colors=colors2, explode=explode, startangle=60)\\nax[3].set(title='Dependents')\\n\\nplt.show()\";\n",
       "                var nbb_formatted_code = \"genero = df[\\\"gender\\\"].value_counts(normalize=True)\\nidoso = df[\\\"SeniorCitizen\\\"].value_counts(normalize=True)\\nest_civil = df[\\\"Partner\\\"].value_counts(normalize=True)\\nfilhos = df[\\\"Dependents\\\"].value_counts(normalize=True)\\n\\ncolors1 = [\\\"goldenrod\\\", \\\"bisque\\\"]\\ncolors2 = [\\\"seagreen\\\", \\\"lightpink\\\"]\\n\\n\\nexplode = [0, 0.03]\\n\\nfig, ax = plt.subplots(1, 4, figsize=(20, 19))\\nax[0].pie(\\n    genero,\\n    labels=[\\\"Male\\\", \\\"Female\\\"],\\n    autopct=\\\"%.2f%%\\\",\\n    shadow=True,\\n    colors=colors1,\\n    explode=explode,\\n    startangle=60,\\n)\\nax[0].set(title=\\\"Gender\\\")\\n\\nax[1].pie(\\n    idoso,\\n    labels=[\\\"No\\\", \\\"Yes\\\"],\\n    autopct=\\\"%.2f%%\\\",\\n    shadow=True,\\n    colors=colors2,\\n    explode=explode,\\n    startangle=60,\\n)\\nax[1].set(title=\\\"Senior Citizen\\\")\\n\\nax[2].pie(\\n    est_civil,\\n    labels=[\\\"No\\\", \\\"Yes\\\"],\\n    autopct=\\\"%.2f%%\\\",\\n    shadow=True,\\n    colors=colors1,\\n    explode=explode,\\n    startangle=60,\\n)\\nax[2].set(title=\\\"Partner\\\")\\n\\n\\nax[3].pie(\\n    filhos,\\n    labels=[\\\"No\\\", \\\"Yes\\\"],\\n    autopct=\\\"%.2f%%\\\",\\n    shadow=True,\\n    colors=colors2,\\n    explode=explode,\\n    startangle=60,\\n)\\nax[3].set(title=\\\"Dependents\\\")\\n\\nplt.show()\";\n",
       "                var nbb_cells = Jupyter.notebook.get_cells();\n",
       "                for (var i = 0; i < nbb_cells.length; ++i) {\n",
       "                    if (nbb_cells[i].input_prompt_number == nbb_cell_id) {\n",
       "                        if (nbb_cells[i].get_text() == nbb_unformatted_code) {\n",
       "                             nbb_cells[i].set_text(nbb_formatted_code);\n",
       "                        }\n",
       "                        break;\n",
       "                    }\n",
       "                }\n",
       "            }, 500);\n",
       "            "
      ],
      "text/plain": [
       "<IPython.core.display.Javascript object>"
      ]
     },
     "metadata": {},
     "output_type": "display_data"
    }
   ],
   "source": [
    "genero = df['gender'].value_counts(normalize=True)\n",
    "idoso = df['SeniorCitizen'].value_counts(normalize=True)\n",
    "est_civil = df['Partner'].value_counts(normalize=True)\n",
    "filhos = df['Dependents'].value_counts(normalize=True)\n",
    "\n",
    "colors1 = ['goldenrod', 'bisque']\n",
    "colors2 = ['seagreen', 'lightpink']\n",
    "\n",
    "\n",
    "\n",
    "\n",
    "explode =[0, 0.03]\n",
    "\n",
    "fig, ax  = plt.subplots(1,4, figsize=(20,19))\n",
    "ax[0].pie(genero,labels=['Male', 'Female'], autopct='%.2f%%', shadow=True, colors=colors1, explode=explode, startangle=60)\n",
    "ax[0].set(title='Gender')\n",
    "\n",
    "ax[1].pie(idoso,labels=['No', 'Yes'], autopct='%.2f%%', shadow=True, colors=colors2, explode=explode, startangle=60)\n",
    "ax[1].set(title='Senior Citizen')\n",
    "\n",
    "ax[2].pie(est_civil,labels=['No', 'Yes'], autopct='%.2f%%', shadow=True, colors=colors1, explode=explode, startangle=60)\n",
    "ax[2].set(title='Partner')\n",
    "\n",
    "\n",
    "ax[3].pie(filhos,labels=['No', 'Yes'], autopct='%.2f%%', shadow=True, colors=colors2, explode=explode, startangle=60)\n",
    "ax[3].set(title='Dependents')\n",
    "\n",
    "plt.show()\n"
   ]
  },
  {
   "cell_type": "code",
   "execution_count": 15,
   "id": "4f1e1816-dd23-4e07-a32c-ad9b3b0e952a",
   "metadata": {
    "jupyter": {
     "source_hidden": true
    },
    "tags": []
   },
   "outputs": [
    {
     "data": {
      "text/plain": [
       "Index(['gender', 'SeniorCitizen', 'Partner', 'Dependents', 'tenure',\n",
       "       'PhoneService', 'MultipleLines', 'InternetService', 'OnlineSecurity',\n",
       "       'OnlineBackup', 'DeviceProtection', 'TechSupport', 'StreamingTV',\n",
       "       'StreamingMovies', 'Contract', 'PaperlessBilling', 'PaymentMethod',\n",
       "       'MonthlyCharges', 'TotalCharges', 'Churn'],\n",
       "      dtype='object')"
      ]
     },
     "execution_count": 15,
     "metadata": {},
     "output_type": "execute_result"
    },
    {
     "data": {
      "application/javascript": [
       "\n",
       "            setTimeout(function() {\n",
       "                var nbb_cell_id = 15;\n",
       "                var nbb_unformatted_code = \"df.columns\";\n",
       "                var nbb_formatted_code = \"df.columns\";\n",
       "                var nbb_cells = Jupyter.notebook.get_cells();\n",
       "                for (var i = 0; i < nbb_cells.length; ++i) {\n",
       "                    if (nbb_cells[i].input_prompt_number == nbb_cell_id) {\n",
       "                        if (nbb_cells[i].get_text() == nbb_unformatted_code) {\n",
       "                             nbb_cells[i].set_text(nbb_formatted_code);\n",
       "                        }\n",
       "                        break;\n",
       "                    }\n",
       "                }\n",
       "            }, 500);\n",
       "            "
      ],
      "text/plain": [
       "<IPython.core.display.Javascript object>"
      ]
     },
     "metadata": {},
     "output_type": "display_data"
    }
   ],
   "source": [
    "df.columns"
   ]
  },
  {
   "cell_type": "code",
   "execution_count": 16,
   "id": "2b7260a7-004c-43a9-9d41-9dec400ad5e0",
   "metadata": {
    "jupyter": {
     "source_hidden": true
    },
    "tags": []
   },
   "outputs": [
    {
     "data": {
      "application/javascript": [
       "\n",
       "            setTimeout(function() {\n",
       "                var nbb_cell_id = 16;\n",
       "                var nbb_unformatted_code = \"columns_streams = [\\n    \\n 'PhoneService',\\n 'MultipleLines',\\n 'InternetService',\\n 'StreamingTV',\\n 'StreamingMovies'\\n    \\n]\\n\\ncolumns_suport = [\\n    \\n    'OnlineSecurity', \\n    'OnlineBackup',\\n    'DeviceProtection',\\n    'TechSupport',\\n]\\n\\ncolumns_payment = [\\n    'Contract',\\n    'PaymentMethod',\\n    'PaperlessBilling',\\n    'Churn'\\n]\";\n",
       "                var nbb_formatted_code = \"columns_streams = [\\n    \\\"PhoneService\\\",\\n    \\\"MultipleLines\\\",\\n    \\\"InternetService\\\",\\n    \\\"StreamingTV\\\",\\n    \\\"StreamingMovies\\\",\\n]\\n\\ncolumns_suport = [\\n    \\\"OnlineSecurity\\\",\\n    \\\"OnlineBackup\\\",\\n    \\\"DeviceProtection\\\",\\n    \\\"TechSupport\\\",\\n]\\n\\ncolumns_payment = [\\\"Contract\\\", \\\"PaymentMethod\\\", \\\"PaperlessBilling\\\", \\\"Churn\\\"]\";\n",
       "                var nbb_cells = Jupyter.notebook.get_cells();\n",
       "                for (var i = 0; i < nbb_cells.length; ++i) {\n",
       "                    if (nbb_cells[i].input_prompt_number == nbb_cell_id) {\n",
       "                        if (nbb_cells[i].get_text() == nbb_unformatted_code) {\n",
       "                             nbb_cells[i].set_text(nbb_formatted_code);\n",
       "                        }\n",
       "                        break;\n",
       "                    }\n",
       "                }\n",
       "            }, 500);\n",
       "            "
      ],
      "text/plain": [
       "<IPython.core.display.Javascript object>"
      ]
     },
     "metadata": {},
     "output_type": "display_data"
    }
   ],
   "source": [
    "columns_streams = [\n",
    "    \n",
    " 'PhoneService',\n",
    " 'MultipleLines',\n",
    " 'InternetService',\n",
    " 'StreamingTV',\n",
    " 'StreamingMovies'\n",
    "    \n",
    "]\n",
    "\n",
    "columns_suport = [\n",
    "    \n",
    "    'OnlineSecurity', \n",
    "    'OnlineBackup',\n",
    "    'DeviceProtection',\n",
    "    'TechSupport',\n",
    "]\n",
    "\n",
    "columns_payment = [\n",
    "    'Contract',\n",
    "    'PaymentMethod',\n",
    "    'PaperlessBilling',\n",
    "    'Churn'\n",
    "]"
   ]
  },
  {
   "cell_type": "markdown",
   "id": "8efb9710-2478-43b6-bb3c-a1df57079248",
   "metadata": {},
   "source": [
    "# Análise do volume para as variáveis categóricas"
   ]
  },
  {
   "cell_type": "code",
   "execution_count": 17,
   "id": "c424c874-806e-4514-9bc7-835e8473083f",
   "metadata": {
    "tags": []
   },
   "outputs": [
    {
     "data": {
      "image/png": "[encoded data removed]",
      "text/plain": [
       "<Figure size 1440x360 with 5 Axes>"
      ]
     },
     "metadata": {},
     "output_type": "display_data"
    },
    {
     "data": {
      "application/javascript": [
       "\n",
       "            setTimeout(function() {\n",
       "                var nbb_cell_id = 17;\n",
       "                var nbb_unformatted_code = \"colors3 = ['rosybrown', 'slategrey', 'lightsteelblue']\\n\\n\\nfig, ax = plt.subplots(1, len(columns_streams), figsize=(20,5))\\n\\nfor i, columns_streams in enumerate(df[columns_streams]):\\n    df[columns_streams].value_counts().plot(kind='bar', ax=ax[i], color=colors3).set_title(columns_streams)\\n  \\n    \\nfig.show()\";\n",
       "                var nbb_formatted_code = \"colors3 = [\\\"rosybrown\\\", \\\"slategrey\\\", \\\"lightsteelblue\\\"]\\n\\n\\nfig, ax = plt.subplots(1, len(columns_streams), figsize=(20, 5))\\n\\nfor i, columns_streams in enumerate(df[columns_streams]):\\n    df[columns_streams].value_counts().plot(\\n        kind=\\\"bar\\\", ax=ax[i], color=colors3\\n    ).set_title(columns_streams)\\n\\n\\nfig.show()\";\n",
       "                var nbb_cells = Jupyter.notebook.get_cells();\n",
       "                for (var i = 0; i < nbb_cells.length; ++i) {\n",
       "                    if (nbb_cells[i].input_prompt_number == nbb_cell_id) {\n",
       "                        if (nbb_cells[i].get_text() == nbb_unformatted_code) {\n",
       "                             nbb_cells[i].set_text(nbb_formatted_code);\n",
       "                        }\n",
       "                        break;\n",
       "                    }\n",
       "                }\n",
       "            }, 500);\n",
       "            "
      ],
      "text/plain": [
       "<IPython.core.display.Javascript object>"
      ]
     },
     "metadata": {},
     "output_type": "display_data"
    }
   ],
   "source": [
    "colors3 = ['rosybrown', 'slategrey', 'lightsteelblue']\n",
    "\n",
    "\n",
    "fig, ax = plt.subplots(1, len(columns_streams), figsize=(20,5))\n",
    "\n",
    "for i, columns_streams in enumerate(df[columns_streams]):\n",
    "    df[columns_streams].value_counts().plot(kind='bar', ax=ax[i], color=colors3).set_title(columns_streams)\n",
    "  \n",
    "    \n",
    "fig.show()\n",
    "\n"
   ]
  },
  {
   "cell_type": "code",
   "execution_count": 18,
   "id": "9ea9a76e-935e-4fc0-b9bc-802115bcb4fd",
   "metadata": {
    "jupyter": {
     "source_hidden": true
    },
    "tags": []
   },
   "outputs": [
    {
     "data": {
      "image/png": "[encoded data removed]",
      "text/plain": [
       "<Figure size 1440x360 with 4 Axes>"
      ]
     },
     "metadata": {},
     "output_type": "display_data"
    },
    {
     "data": {
      "application/javascript": [
       "\n",
       "            setTimeout(function() {\n",
       "                var nbb_cell_id = 18;\n",
       "                var nbb_unformatted_code = \"colors3 = ['rosybrown', 'slategrey', 'lightsteelblue']\\n\\n\\nfig, ax = plt.subplots(1, len(columns_suport), figsize=(20,5))\\n\\nfor i, columns_suport in enumerate(df[columns_suport]):\\n    df[columns_suport].value_counts().plot(kind='bar', ax=ax[i], color=colors3).set_title(columns_suport)\\n  \\n    \\nfig.show()\";\n",
       "                var nbb_formatted_code = \"colors3 = [\\\"rosybrown\\\", \\\"slategrey\\\", \\\"lightsteelblue\\\"]\\n\\n\\nfig, ax = plt.subplots(1, len(columns_suport), figsize=(20, 5))\\n\\nfor i, columns_suport in enumerate(df[columns_suport]):\\n    df[columns_suport].value_counts().plot(\\n        kind=\\\"bar\\\", ax=ax[i], color=colors3\\n    ).set_title(columns_suport)\\n\\n\\nfig.show()\";\n",
       "                var nbb_cells = Jupyter.notebook.get_cells();\n",
       "                for (var i = 0; i < nbb_cells.length; ++i) {\n",
       "                    if (nbb_cells[i].input_prompt_number == nbb_cell_id) {\n",
       "                        if (nbb_cells[i].get_text() == nbb_unformatted_code) {\n",
       "                             nbb_cells[i].set_text(nbb_formatted_code);\n",
       "                        }\n",
       "                        break;\n",
       "                    }\n",
       "                }\n",
       "            }, 500);\n",
       "            "
      ],
      "text/plain": [
       "<IPython.core.display.Javascript object>"
      ]
     },
     "metadata": {},
     "output_type": "display_data"
    }
   ],
   "source": [
    "colors3 = ['rosybrown', 'slategrey', 'lightsteelblue']\n",
    "\n",
    "\n",
    "fig, ax = plt.subplots(1, len(columns_suport), figsize=(20,5))\n",
    "\n",
    "for i, columns_suport in enumerate(df[columns_suport]):\n",
    "    df[columns_suport].value_counts().plot(kind='bar', ax=ax[i], color=colors3).set_title(columns_suport)\n",
    "  \n",
    "    \n",
    "fig.show()"
   ]
  },
  {
   "cell_type": "code",
   "execution_count": 19,
   "id": "e5304618-4a9a-4092-a779-f418710ecd8c",
   "metadata": {
    "jupyter": {
     "source_hidden": true
    },
    "tags": []
   },
   "outputs": [
    {
     "data": {
      "image/png": "[encoded data removed]",
      "text/plain": [
       "<Figure size 1152x288 with 4 Axes>"
      ]
     },
     "metadata": {},
     "output_type": "display_data"
    },
    {
     "data": {
      "application/javascript": [
       "\n",
       "            setTimeout(function() {\n",
       "                var nbb_cell_id = 19;\n",
       "                var nbb_unformatted_code = \"colors3 = ['rosybrown', 'slategrey', 'lightsteelblue']\\n\\n\\nfig, ax = plt.subplots(1, 4, figsize=(16,4))\\n\\nfor i, columns_payment in enumerate(df[columns_payment]):\\n    df[columns_payment].value_counts().plot(kind='bar', ax=ax[i], color=colors3).set_title(columns_payment)\\n  \\n    \\nfig.show()\";\n",
       "                var nbb_formatted_code = \"colors3 = [\\\"rosybrown\\\", \\\"slategrey\\\", \\\"lightsteelblue\\\"]\\n\\n\\nfig, ax = plt.subplots(1, 4, figsize=(16, 4))\\n\\nfor i, columns_payment in enumerate(df[columns_payment]):\\n    df[columns_payment].value_counts().plot(\\n        kind=\\\"bar\\\", ax=ax[i], color=colors3\\n    ).set_title(columns_payment)\\n\\n\\nfig.show()\";\n",
       "                var nbb_cells = Jupyter.notebook.get_cells();\n",
       "                for (var i = 0; i < nbb_cells.length; ++i) {\n",
       "                    if (nbb_cells[i].input_prompt_number == nbb_cell_id) {\n",
       "                        if (nbb_cells[i].get_text() == nbb_unformatted_code) {\n",
       "                             nbb_cells[i].set_text(nbb_formatted_code);\n",
       "                        }\n",
       "                        break;\n",
       "                    }\n",
       "                }\n",
       "            }, 500);\n",
       "            "
      ],
      "text/plain": [
       "<IPython.core.display.Javascript object>"
      ]
     },
     "metadata": {},
     "output_type": "display_data"
    }
   ],
   "source": [
    "colors3 = ['rosybrown', 'slategrey', 'lightsteelblue']\n",
    "\n",
    "\n",
    "fig, ax = plt.subplots(1, 4, figsize=(16,4))\n",
    "\n",
    "for i, columns_payment in enumerate(df[columns_payment]):\n",
    "    df[columns_payment].value_counts().plot(kind='bar', ax=ax[i], color=colors3).set_title(columns_payment)\n",
    "  \n",
    "    \n",
    "fig.show()"
   ]
  },
  {
   "cell_type": "code",
   "execution_count": 20,
   "id": "df9043af-d5b5-4bcc-91a7-f3d99c17fe6f",
   "metadata": {
    "jupyter": {
     "source_hidden": true
    },
    "tags": []
   },
   "outputs": [
    {
     "data": {
      "image/png": "[encoded data removed]",
      "text/plain": [
       "<Figure size 936x504 with 2 Axes>"
      ]
     },
     "metadata": {},
     "output_type": "display_data"
    },
    {
     "data": {
      "application/javascript": [
       "\n",
       "            setTimeout(function() {\n",
       "                var nbb_cell_id = 20;\n",
       "                var nbb_unformatted_code = \"#Matriz de correla\\u00e7\\u00e3o antes das altera\\u00e7\\u00f5es\\n\\n\\ncorr = df.corr()\\nplt.figure(figsize=(13,7))\\nmask = np.zeros_like(corr)\\nmask[np.triu_indices_from(mask,1)] = True\\na = sns.heatmap(corr, mask=mask, annot=True, fmt='.2f')\\nrotx = a.set_xticklabels(a.get_xticklabels(), rotation=30)\\nroty = a.set_yticklabels(a.get_yticklabels(), rotation=0)\";\n",
       "                var nbb_formatted_code = \"# Matriz de correla\\u00e7\\u00e3o antes das altera\\u00e7\\u00f5es\\n\\n\\ncorr = df.corr()\\nplt.figure(figsize=(13, 7))\\nmask = np.zeros_like(corr)\\nmask[np.triu_indices_from(mask, 1)] = True\\na = sns.heatmap(corr, mask=mask, annot=True, fmt=\\\".2f\\\")\\nrotx = a.set_xticklabels(a.get_xticklabels(), rotation=30)\\nroty = a.set_yticklabels(a.get_yticklabels(), rotation=0)\";\n",
       "                var nbb_cells = Jupyter.notebook.get_cells();\n",
       "                for (var i = 0; i < nbb_cells.length; ++i) {\n",
       "                    if (nbb_cells[i].input_prompt_number == nbb_cell_id) {\n",
       "                        if (nbb_cells[i].get_text() == nbb_unformatted_code) {\n",
       "                             nbb_cells[i].set_text(nbb_formatted_code);\n",
       "                        }\n",
       "                        break;\n",
       "                    }\n",
       "                }\n",
       "            }, 500);\n",
       "            "
      ],
      "text/plain": [
       "<IPython.core.display.Javascript object>"
      ]
     },
     "metadata": {},
     "output_type": "display_data"
    }
   ],
   "source": [
    "#Matriz de correlação antes das alterações\n",
    "\n",
    "\n",
    "corr = df.corr()\n",
    "plt.figure(figsize=(13,7))\n",
    "mask = np.zeros_like(corr)\n",
    "mask[np.triu_indices_from(mask,1)] = True\n",
    "a = sns.heatmap(corr, mask=mask, annot=True, fmt='.2f')\n",
    "rotx = a.set_xticklabels(a.get_xticklabels(), rotation=30)\n",
    "roty = a.set_yticklabels(a.get_yticklabels(), rotation=0)"
   ]
  },
  {
   "cell_type": "markdown",
   "id": "d8c6ae7e-2125-4eaa-b952-5e44a8f43931",
   "metadata": {},
   "source": [
    "# Análise do público alvo"
   ]
  },
  {
   "cell_type": "code",
   "execution_count": 21,
   "id": "7f824731-6fba-4c53-a8c9-5c7fe071a826",
   "metadata": {
    "tags": []
   },
   "outputs": [
    {
     "data": {
      "image/png": "[encoded data removed]",
      "text/plain": [
       "<Figure size 1080x360 with 2 Axes>"
      ]
     },
     "metadata": {},
     "output_type": "display_data"
    },
    {
     "data": {
      "application/javascript": [
       "\n",
       "            setTimeout(function() {\n",
       "                var nbb_cell_id = 21;\n",
       "                var nbb_unformatted_code = \"#Somat\\u00f3ria de posses por sexo\\ncolors1 = ['darkred', 'darkblue']\\ncolors2 = ['darkred', 'darkred', 'darkblue', 'darkblue']\\n\\nfig, (ax1, ax2) = plt.subplots(1, 2, figsize=(15,5))\\n\\ndf.groupby(df['gender'])['tenure'].sum().plot(kind='bar', color=colors1, ax=ax1, grid=True).set_title('Somat\\u00f3ria de posses por g\\u00eanero')\\n\\n\\ndf.groupby(df['gender'])['Churn'].value_counts().plot(kind='bar', color=colors2, ax=ax2, grid=True).set_title('G\\u00eanero x Churn')\\n\\nplt.show()\";\n",
       "                var nbb_formatted_code = \"# Somat\\u00f3ria de posses por sexo\\ncolors1 = [\\\"darkred\\\", \\\"darkblue\\\"]\\ncolors2 = [\\\"darkred\\\", \\\"darkred\\\", \\\"darkblue\\\", \\\"darkblue\\\"]\\n\\nfig, (ax1, ax2) = plt.subplots(1, 2, figsize=(15, 5))\\n\\ndf.groupby(df[\\\"gender\\\"])[\\\"tenure\\\"].sum().plot(\\n    kind=\\\"bar\\\", color=colors1, ax=ax1, grid=True\\n).set_title(\\\"Somat\\u00f3ria de posses por g\\u00eanero\\\")\\n\\n\\ndf.groupby(df[\\\"gender\\\"])[\\\"Churn\\\"].value_counts().plot(\\n    kind=\\\"bar\\\", color=colors2, ax=ax2, grid=True\\n).set_title(\\\"G\\u00eanero x Churn\\\")\\n\\nplt.show()\";\n",
       "                var nbb_cells = Jupyter.notebook.get_cells();\n",
       "                for (var i = 0; i < nbb_cells.length; ++i) {\n",
       "                    if (nbb_cells[i].input_prompt_number == nbb_cell_id) {\n",
       "                        if (nbb_cells[i].get_text() == nbb_unformatted_code) {\n",
       "                             nbb_cells[i].set_text(nbb_formatted_code);\n",
       "                        }\n",
       "                        break;\n",
       "                    }\n",
       "                }\n",
       "            }, 500);\n",
       "            "
      ],
      "text/plain": [
       "<IPython.core.display.Javascript object>"
      ]
     },
     "metadata": {},
     "output_type": "display_data"
    }
   ],
   "source": [
    "#Somatória de posses por sexo\n",
    "colors1 = ['darkred', 'darkblue']\n",
    "colors2 = ['darkred', 'darkred', 'darkblue', 'darkblue']\n",
    "\n",
    "fig, (ax1, ax2) = plt.subplots(1, 2, figsize=(15,5))\n",
    "\n",
    "df.groupby(df['gender'])['tenure'].sum().plot(kind='bar', color=colors1, ax=ax1, grid=True).set_title('Somatória de posses por gênero')\n",
    "\n",
    "\n",
    "df.groupby(df['gender'])['Churn'].value_counts().plot(kind='bar', color=colors2, ax=ax2, grid=True).set_title('Gênero x Churn')\n",
    "\n",
    "plt.show()"
   ]
  },
  {
   "cell_type": "code",
   "execution_count": 22,
   "id": "42125604-3ed8-4ee4-a71e-4ce0c2d8dd0d",
   "metadata": {},
   "outputs": [
    {
     "data": {
      "image/png": "[encoded data removed]",
      "text/plain": [
       "<Figure size 576x432 with 1 Axes>"
      ]
     },
     "metadata": {},
     "output_type": "display_data"
    },
    {
     "data": {
      "application/javascript": [
       "\n",
       "            setTimeout(function() {\n",
       "                var nbb_cell_id = 22;\n",
       "                var nbb_unformatted_code = \"#cruzamento de dados entre a soma de posse por genero e a % de churn\\n\\n\\nx=df['gender']\\ny=df['Churn'].value_counts()\\n\\nplt.figure(figsize=(8,6))\\n\\nsns.barplot(y=df['tenure'], x = df['Churn'], hue=df['gender'], palette = 'Set2')\\nplt.title('Posse entre homens e mulheres x Churn', size=15)\\nplt.show()\";\n",
       "                var nbb_formatted_code = \"# cruzamento de dados entre a soma de posse por genero e a % de churn\\n\\n\\nx = df[\\\"gender\\\"]\\ny = df[\\\"Churn\\\"].value_counts()\\n\\nplt.figure(figsize=(8, 6))\\n\\nsns.barplot(y=df[\\\"tenure\\\"], x=df[\\\"Churn\\\"], hue=df[\\\"gender\\\"], palette=\\\"Set2\\\")\\nplt.title(\\\"Posse entre homens e mulheres x Churn\\\", size=15)\\nplt.show()\";\n",
       "                var nbb_cells = Jupyter.notebook.get_cells();\n",
       "                for (var i = 0; i < nbb_cells.length; ++i) {\n",
       "                    if (nbb_cells[i].input_prompt_number == nbb_cell_id) {\n",
       "                        if (nbb_cells[i].get_text() == nbb_unformatted_code) {\n",
       "                             nbb_cells[i].set_text(nbb_formatted_code);\n",
       "                        }\n",
       "                        break;\n",
       "                    }\n",
       "                }\n",
       "            }, 500);\n",
       "            "
      ],
      "text/plain": [
       "<IPython.core.display.Javascript object>"
      ]
     },
     "metadata": {},
     "output_type": "display_data"
    }
   ],
   "source": [
    "#cruzamento de dados entre a soma de posse por genero e a % de churn\n",
    "\n",
    "\n",
    "x=df['gender']\n",
    "y=df['Churn'].value_counts()\n",
    "\n",
    "plt.figure(figsize=(8,6))\n",
    "\n",
    "sns.barplot(y=df['tenure'], x = df['Churn'], hue=df['gender'], palette = 'Set2')\n",
    "plt.title('Posse entre homens e mulheres x Churn', size=15)\n",
    "plt.show()"
   ]
  },
  {
   "cell_type": "code",
   "execution_count": 23,
   "id": "19cea869-8f86-4251-94e8-3914f503417e",
   "metadata": {},
   "outputs": [
    {
     "data": {
      "application/javascript": [
       "\n",
       "            setTimeout(function() {\n",
       "                var nbb_cell_id = 23;\n",
       "                var nbb_unformatted_code = \"analise_churn_yes = df[df['Churn'] == 'Yes']\\nanalise_churn_yes.head(3)\\n\\n\\n\\nanalise_churn_no = df[df['Churn'] == 'No']\";\n",
       "                var nbb_formatted_code = \"analise_churn_yes = df[df[\\\"Churn\\\"] == \\\"Yes\\\"]\\nanalise_churn_yes.head(3)\\n\\n\\nanalise_churn_no = df[df[\\\"Churn\\\"] == \\\"No\\\"]\";\n",
       "                var nbb_cells = Jupyter.notebook.get_cells();\n",
       "                for (var i = 0; i < nbb_cells.length; ++i) {\n",
       "                    if (nbb_cells[i].input_prompt_number == nbb_cell_id) {\n",
       "                        if (nbb_cells[i].get_text() == nbb_unformatted_code) {\n",
       "                             nbb_cells[i].set_text(nbb_formatted_code);\n",
       "                        }\n",
       "                        break;\n",
       "                    }\n",
       "                }\n",
       "            }, 500);\n",
       "            "
      ],
      "text/plain": [
       "<IPython.core.display.Javascript object>"
      ]
     },
     "metadata": {},
     "output_type": "display_data"
    }
   ],
   "source": [
    "analise_churn_yes = df[df['Churn'] == 'Yes']\n",
    "analise_churn_yes.head(3)\n",
    "\n",
    "\n",
    "\n",
    "analise_churn_no = df[df['Churn'] == 'No']"
   ]
  },
  {
   "cell_type": "code",
   "execution_count": 24,
   "id": "f743752a-db8c-4a01-a41b-c54c3dccda7e",
   "metadata": {},
   "outputs": [
    {
     "name": "stdout",
     "output_type": "stream",
     "text": [
      "Número de pessoas que não possui a assinatura ativa 1869, que representam 4% de churn\n"
     ]
    },
    {
     "data": {
      "application/javascript": [
       "\n",
       "            setTimeout(function() {\n",
       "                var nbb_cell_id = 24;\n",
       "                var nbb_unformatted_code = \"print(f'N\\u00famero de pessoas que n\\u00e3o possui a assinatura ativa {len(analise_churn_yes)}, que representam {round(len(df)/len(analise_churn_yes))}% de churn')\";\n",
       "                var nbb_formatted_code = \"print(\\n    f\\\"N\\u00famero de pessoas que n\\u00e3o possui a assinatura ativa {len(analise_churn_yes)}, que representam {round(len(df)/len(analise_churn_yes))}% de churn\\\"\\n)\";\n",
       "                var nbb_cells = Jupyter.notebook.get_cells();\n",
       "                for (var i = 0; i < nbb_cells.length; ++i) {\n",
       "                    if (nbb_cells[i].input_prompt_number == nbb_cell_id) {\n",
       "                        if (nbb_cells[i].get_text() == nbb_unformatted_code) {\n",
       "                             nbb_cells[i].set_text(nbb_formatted_code);\n",
       "                        }\n",
       "                        break;\n",
       "                    }\n",
       "                }\n",
       "            }, 500);\n",
       "            "
      ],
      "text/plain": [
       "<IPython.core.display.Javascript object>"
      ]
     },
     "metadata": {},
     "output_type": "display_data"
    }
   ],
   "source": [
    "print(f'Número de pessoas que não possui a assinatura ativa {len(analise_churn_yes)}, que representam {round(len(df)/len(analise_churn_yes))}% de churn')"
   ]
  },
  {
   "cell_type": "code",
   "execution_count": 25,
   "id": "19008629-1a5f-4422-82df-97b87537665a",
   "metadata": {},
   "outputs": [
    {
     "data": {
      "image/png": "[encoded data removed]",
      "text/plain": [
       "<Figure size 1440x360 with 4 Axes>"
      ]
     },
     "metadata": {},
     "output_type": "display_data"
    },
    {
     "data": {
      "application/javascript": [
       "\n",
       "            setTimeout(function() {\n",
       "                var nbb_cell_id = 25;\n",
       "                var nbb_unformatted_code = \"colors1 = ['darkred', 'darkblue']\\ncolors2 = ['darkred', 'darkred', 'darkblue', 'darkblue']\\n\\nfig, (ax1, ax2, ax3, ax4) = plt.subplots(1, 4, figsize=(20,5))\\n\\nsns.countplot(data=analise_churn_yes, x='Partner', ax=ax1)\\n\\nsns.countplot(data=analise_churn_yes, x='gender', ax=ax2)\\n\\nsns.countplot(data=analise_churn_yes, x='Dependents', ax=ax3)\\n\\nsns.countplot(data=analise_churn_yes, x='SeniorCitizen', ax= ax4)\\n\\n#plt.title('Contagem dentro do dataset apenas de cliente com perfil de evas\\u00e3o)\\n\\nplt.show()\";\n",
       "                var nbb_formatted_code = \"colors1 = [\\\"darkred\\\", \\\"darkblue\\\"]\\ncolors2 = [\\\"darkred\\\", \\\"darkred\\\", \\\"darkblue\\\", \\\"darkblue\\\"]\\n\\nfig, (ax1, ax2, ax3, ax4) = plt.subplots(1, 4, figsize=(20, 5))\\n\\nsns.countplot(data=analise_churn_yes, x=\\\"Partner\\\", ax=ax1)\\n\\nsns.countplot(data=analise_churn_yes, x=\\\"gender\\\", ax=ax2)\\n\\nsns.countplot(data=analise_churn_yes, x=\\\"Dependents\\\", ax=ax3)\\n\\nsns.countplot(data=analise_churn_yes, x=\\\"SeniorCitizen\\\", ax=ax4)\\n\\n# plt.title('Contagem dentro do dataset apenas de cliente com perfil de evas\\u00e3o)\\n\\nplt.show()\";\n",
       "                var nbb_cells = Jupyter.notebook.get_cells();\n",
       "                for (var i = 0; i < nbb_cells.length; ++i) {\n",
       "                    if (nbb_cells[i].input_prompt_number == nbb_cell_id) {\n",
       "                        if (nbb_cells[i].get_text() == nbb_unformatted_code) {\n",
       "                             nbb_cells[i].set_text(nbb_formatted_code);\n",
       "                        }\n",
       "                        break;\n",
       "                    }\n",
       "                }\n",
       "            }, 500);\n",
       "            "
      ],
      "text/plain": [
       "<IPython.core.display.Javascript object>"
      ]
     },
     "metadata": {},
     "output_type": "display_data"
    }
   ],
   "source": [
    "colors1 = ['darkred', 'darkblue']\n",
    "colors2 = ['darkred', 'darkred', 'darkblue', 'darkblue']\n",
    "\n",
    "fig, (ax1, ax2, ax3, ax4) = plt.subplots(1, 4, figsize=(20,5))\n",
    "\n",
    "sns.countplot(data=analise_churn_yes, x='Partner', ax=ax1)\n",
    "\n",
    "sns.countplot(data=analise_churn_yes, x='gender', ax=ax2)\n",
    "\n",
    "sns.countplot(data=analise_churn_yes, x='Dependents', ax=ax3)\n",
    "\n",
    "sns.countplot(data=analise_churn_yes, x='SeniorCitizen', ax= ax4)\n",
    "\n",
    "#plt.title('Contagem dentro do dataset apenas de cliente com perfil de evasão)\n",
    "\n",
    "plt.show()"
   ]
  },
  {
   "cell_type": "code",
   "execution_count": 26,
   "id": "f0e47fa2-f425-4880-9098-e9fd1250d7db",
   "metadata": {},
   "outputs": [
    {
     "data": {
      "text/html": [
       "<div>\n",
       "<style scoped>\n",
       "    .dataframe tbody tr th:only-of-type {\n",
       "        vertical-align: middle;\n",
       "    }\n",
       "\n",
       "    .dataframe tbody tr th {\n",
       "        vertical-align: top;\n",
       "    }\n",
       "\n",
       "    .dataframe thead th {\n",
       "        text-align: right;\n",
       "    }\n",
       "</style>\n",
       "<table border=\"1\" class=\"dataframe\">\n",
       "  <thead>\n",
       "    <tr style=\"text-align: right;\">\n",
       "      <th></th>\n",
       "      <th>tenure</th>\n",
       "      <th>MonthlyCharges</th>\n",
       "      <th>TotalCharges</th>\n",
       "    </tr>\n",
       "  </thead>\n",
       "  <tbody>\n",
       "    <tr>\n",
       "      <th>2</th>\n",
       "      <td>2</td>\n",
       "      <td>53.85</td>\n",
       "      <td>108.15</td>\n",
       "    </tr>\n",
       "    <tr>\n",
       "      <th>4</th>\n",
       "      <td>2</td>\n",
       "      <td>70.70</td>\n",
       "      <td>151.65</td>\n",
       "    </tr>\n",
       "    <tr>\n",
       "      <th>5</th>\n",
       "      <td>8</td>\n",
       "      <td>99.65</td>\n",
       "      <td>820.50</td>\n",
       "    </tr>\n",
       "    <tr>\n",
       "      <th>8</th>\n",
       "      <td>28</td>\n",
       "      <td>104.80</td>\n",
       "      <td>3046.05</td>\n",
       "    </tr>\n",
       "    <tr>\n",
       "      <th>13</th>\n",
       "      <td>49</td>\n",
       "      <td>103.70</td>\n",
       "      <td>5036.30</td>\n",
       "    </tr>\n",
       "    <tr>\n",
       "      <th>...</th>\n",
       "      <td>...</td>\n",
       "      <td>...</td>\n",
       "      <td>...</td>\n",
       "    </tr>\n",
       "    <tr>\n",
       "      <th>7021</th>\n",
       "      <td>12</td>\n",
       "      <td>59.80</td>\n",
       "      <td>727.80</td>\n",
       "    </tr>\n",
       "    <tr>\n",
       "      <th>7026</th>\n",
       "      <td>9</td>\n",
       "      <td>44.20</td>\n",
       "      <td>403.35</td>\n",
       "    </tr>\n",
       "    <tr>\n",
       "      <th>7032</th>\n",
       "      <td>1</td>\n",
       "      <td>75.75</td>\n",
       "      <td>75.75</td>\n",
       "    </tr>\n",
       "    <tr>\n",
       "      <th>7034</th>\n",
       "      <td>67</td>\n",
       "      <td>102.95</td>\n",
       "      <td>6886.25</td>\n",
       "    </tr>\n",
       "    <tr>\n",
       "      <th>7041</th>\n",
       "      <td>4</td>\n",
       "      <td>74.40</td>\n",
       "      <td>306.60</td>\n",
       "    </tr>\n",
       "  </tbody>\n",
       "</table>\n",
       "<p>1869 rows × 3 columns</p>\n",
       "</div>"
      ],
      "text/plain": [
       "      tenure  MonthlyCharges  TotalCharges\n",
       "2          2           53.85        108.15\n",
       "4          2           70.70        151.65\n",
       "5          8           99.65        820.50\n",
       "8         28          104.80       3046.05\n",
       "13        49          103.70       5036.30\n",
       "...      ...             ...           ...\n",
       "7021      12           59.80        727.80\n",
       "7026       9           44.20        403.35\n",
       "7032       1           75.75         75.75\n",
       "7034      67          102.95       6886.25\n",
       "7041       4           74.40        306.60\n",
       "\n",
       "[1869 rows x 3 columns]"
      ]
     },
     "execution_count": 26,
     "metadata": {},
     "output_type": "execute_result"
    },
    {
     "data": {
      "application/javascript": [
       "\n",
       "            setTimeout(function() {\n",
       "                var nbb_cell_id = 26;\n",
       "                var nbb_unformatted_code = \"analise_churn_yes[['tenure', 'MonthlyCharges', 'TotalCharges']]\";\n",
       "                var nbb_formatted_code = \"analise_churn_yes[[\\\"tenure\\\", \\\"MonthlyCharges\\\", \\\"TotalCharges\\\"]]\";\n",
       "                var nbb_cells = Jupyter.notebook.get_cells();\n",
       "                for (var i = 0; i < nbb_cells.length; ++i) {\n",
       "                    if (nbb_cells[i].input_prompt_number == nbb_cell_id) {\n",
       "                        if (nbb_cells[i].get_text() == nbb_unformatted_code) {\n",
       "                             nbb_cells[i].set_text(nbb_formatted_code);\n",
       "                        }\n",
       "                        break;\n",
       "                    }\n",
       "                }\n",
       "            }, 500);\n",
       "            "
      ],
      "text/plain": [
       "<IPython.core.display.Javascript object>"
      ]
     },
     "metadata": {},
     "output_type": "display_data"
    }
   ],
   "source": [
    "analise_churn_yes[['tenure', 'MonthlyCharges', 'TotalCharges']]"
   ]
  },
  {
   "cell_type": "code",
   "execution_count": 29,
   "id": "91645d1f-9a3c-4542-8d4a-dc7528dc5f78",
   "metadata": {},
   "outputs": [
    {
     "data": {
      "text/html": [
       "<div>\n",
       "<style scoped>\n",
       "    .dataframe tbody tr th:only-of-type {\n",
       "        vertical-align: middle;\n",
       "    }\n",
       "\n",
       "    .dataframe tbody tr th {\n",
       "        vertical-align: top;\n",
       "    }\n",
       "\n",
       "    .dataframe thead th {\n",
       "        text-align: right;\n",
       "    }\n",
       "</style>\n",
       "<table border=\"1\" class=\"dataframe\">\n",
       "  <thead>\n",
       "    <tr style=\"text-align: right;\">\n",
       "      <th></th>\n",
       "      <th>tenure</th>\n",
       "      <th>MonthlyCharges</th>\n",
       "      <th>TotalCharges</th>\n",
       "    </tr>\n",
       "  </thead>\n",
       "  <tbody>\n",
       "    <tr>\n",
       "      <th>0</th>\n",
       "      <td>1</td>\n",
       "      <td>29.85</td>\n",
       "      <td>29.85</td>\n",
       "    </tr>\n",
       "    <tr>\n",
       "      <th>1</th>\n",
       "      <td>34</td>\n",
       "      <td>56.95</td>\n",
       "      <td>1889.50</td>\n",
       "    </tr>\n",
       "    <tr>\n",
       "      <th>3</th>\n",
       "      <td>45</td>\n",
       "      <td>42.30</td>\n",
       "      <td>1840.75</td>\n",
       "    </tr>\n",
       "    <tr>\n",
       "      <th>6</th>\n",
       "      <td>22</td>\n",
       "      <td>89.10</td>\n",
       "      <td>1949.40</td>\n",
       "    </tr>\n",
       "    <tr>\n",
       "      <th>7</th>\n",
       "      <td>10</td>\n",
       "      <td>29.75</td>\n",
       "      <td>301.90</td>\n",
       "    </tr>\n",
       "    <tr>\n",
       "      <th>...</th>\n",
       "      <td>...</td>\n",
       "      <td>...</td>\n",
       "      <td>...</td>\n",
       "    </tr>\n",
       "    <tr>\n",
       "      <th>7037</th>\n",
       "      <td>72</td>\n",
       "      <td>21.15</td>\n",
       "      <td>1419.40</td>\n",
       "    </tr>\n",
       "    <tr>\n",
       "      <th>7038</th>\n",
       "      <td>24</td>\n",
       "      <td>84.80</td>\n",
       "      <td>1990.50</td>\n",
       "    </tr>\n",
       "    <tr>\n",
       "      <th>7039</th>\n",
       "      <td>72</td>\n",
       "      <td>103.20</td>\n",
       "      <td>7362.90</td>\n",
       "    </tr>\n",
       "    <tr>\n",
       "      <th>7040</th>\n",
       "      <td>11</td>\n",
       "      <td>29.60</td>\n",
       "      <td>346.45</td>\n",
       "    </tr>\n",
       "    <tr>\n",
       "      <th>7042</th>\n",
       "      <td>66</td>\n",
       "      <td>105.65</td>\n",
       "      <td>6844.50</td>\n",
       "    </tr>\n",
       "  </tbody>\n",
       "</table>\n",
       "<p>5174 rows × 3 columns</p>\n",
       "</div>"
      ],
      "text/plain": [
       "      tenure  MonthlyCharges  TotalCharges\n",
       "0          1           29.85         29.85\n",
       "1         34           56.95       1889.50\n",
       "3         45           42.30       1840.75\n",
       "6         22           89.10       1949.40\n",
       "7         10           29.75        301.90\n",
       "...      ...             ...           ...\n",
       "7037      72           21.15       1419.40\n",
       "7038      24           84.80       1990.50\n",
       "7039      72          103.20       7362.90\n",
       "7040      11           29.60        346.45\n",
       "7042      66          105.65       6844.50\n",
       "\n",
       "[5174 rows x 3 columns]"
      ]
     },
     "execution_count": 29,
     "metadata": {},
     "output_type": "execute_result"
    },
    {
     "data": {
      "application/javascript": [
       "\n",
       "            setTimeout(function() {\n",
       "                var nbb_cell_id = 29;\n",
       "                var nbb_unformatted_code = \"analise_churn_no[['tenure', 'MonthlyCharges', 'TotalCharges']]\";\n",
       "                var nbb_formatted_code = \"analise_churn_no[[\\\"tenure\\\", \\\"MonthlyCharges\\\", \\\"TotalCharges\\\"]]\";\n",
       "                var nbb_cells = Jupyter.notebook.get_cells();\n",
       "                for (var i = 0; i < nbb_cells.length; ++i) {\n",
       "                    if (nbb_cells[i].input_prompt_number == nbb_cell_id) {\n",
       "                        if (nbb_cells[i].get_text() == nbb_unformatted_code) {\n",
       "                             nbb_cells[i].set_text(nbb_formatted_code);\n",
       "                        }\n",
       "                        break;\n",
       "                    }\n",
       "                }\n",
       "            }, 500);\n",
       "            "
      ],
      "text/plain": [
       "<IPython.core.display.Javascript object>"
      ]
     },
     "metadata": {},
     "output_type": "display_data"
    }
   ],
   "source": [
    "analise_churn_no[['tenure', 'MonthlyCharges', 'TotalCharges']]"
   ]
  },
  {
   "cell_type": "code",
   "execution_count": 39,
   "id": "d6ffcd96-b464-45b6-8ae9-d778e6877331",
   "metadata": {},
   "outputs": [
    {
     "name": "stdout",
     "output_type": "stream",
     "text": [
      "Número de observações com churn = yes 1869 e somátoria de posse total 33603 \n",
      "Número de observações com churn = no 5174 e somátoria de posse total 194387 \n",
      "O número de posses para o grupo que permanece com a assinatura é 20% a mais, do que em comparação ao segundo grupo\n"
     ]
    },
    {
     "data": {
      "application/javascript": [
       "\n",
       "            setTimeout(function() {\n",
       "                var nbb_cell_id = 39;\n",
       "                var nbb_unformatted_code = \"#an\\u00e1lise da somat\\u00f3ria de posse por grupo colocando nas devidas propor\\u00e7\\u00f5es por grupo\\na = analise_churn_yes['tenure'].sum()\\nb = analise_churn_no['tenure'].sum()\\n\\n\\n\\nprint(f'N\\u00famero de observa\\u00e7\\u00f5es com churn = yes {len(analise_churn_yes)} e som\\u00e1toria de posse total {a} ')\\n\\nprint(f'N\\u00famero de observa\\u00e7\\u00f5es com churn = no {len(analise_churn_no)} e som\\u00e1toria de posse total {b} ')\\n\\nprint(f'O n\\u00famero de posses para o grupo que permanece com a assinatura \\u00e9 20% a mais, do que em compara\\u00e7\\u00e3o ao segundo grupo')\";\n",
       "                var nbb_formatted_code = \"# an\\u00e1lise da somat\\u00f3ria de posse por grupo colocando nas devidas propor\\u00e7\\u00f5es por grupo\\na = analise_churn_yes[\\\"tenure\\\"].sum()\\nb = analise_churn_no[\\\"tenure\\\"].sum()\\n\\n\\nprint(\\n    f\\\"N\\u00famero de observa\\u00e7\\u00f5es com churn = yes {len(analise_churn_yes)} e som\\u00e1toria de posse total {a} \\\"\\n)\\n\\nprint(\\n    f\\\"N\\u00famero de observa\\u00e7\\u00f5es com churn = no {len(analise_churn_no)} e som\\u00e1toria de posse total {b} \\\"\\n)\\n\\nprint(\\n    f\\\"O n\\u00famero de posses para o grupo que permanece com a assinatura \\u00e9 20% a mais, do que em compara\\u00e7\\u00e3o ao segundo grupo\\\"\\n)\";\n",
       "                var nbb_cells = Jupyter.notebook.get_cells();\n",
       "                for (var i = 0; i < nbb_cells.length; ++i) {\n",
       "                    if (nbb_cells[i].input_prompt_number == nbb_cell_id) {\n",
       "                        if (nbb_cells[i].get_text() == nbb_unformatted_code) {\n",
       "                             nbb_cells[i].set_text(nbb_formatted_code);\n",
       "                        }\n",
       "                        break;\n",
       "                    }\n",
       "                }\n",
       "            }, 500);\n",
       "            "
      ],
      "text/plain": [
       "<IPython.core.display.Javascript object>"
      ]
     },
     "metadata": {},
     "output_type": "display_data"
    }
   ],
   "source": [
    "#análise da somatória de posse por grupo colocando nas devidas proporções por grupo\n",
    "a = analise_churn_yes['tenure'].sum()\n",
    "b = analise_churn_no['tenure'].sum()\n",
    "\n",
    "\n",
    "\n",
    "print(f'Número de observações com churn = yes {len(analise_churn_yes)} e somátoria de posse total {a} ')\n",
    "\n",
    "print(f'Número de observações com churn = no {len(analise_churn_no)} e somátoria de posse total {b} ')\n",
    "\n",
    "print(f'O número de posses para o grupo que permanece com a assinatura é 20% a mais, do que em comparação ao segundo grupo')"
   ]
  },
  {
   "cell_type": "code",
   "execution_count": 31,
   "id": "f4ddff07-f904-40c3-a3f5-75d3ebf1f346",
   "metadata": {},
   "outputs": [
    {
     "data": {
      "application/javascript": [
       "\n",
       "            setTimeout(function() {\n",
       "                var nbb_cell_id = 31;\n",
       "                var nbb_unformatted_code = \"#cria\\u00e7\\u00e3o de novos dataframes para estudo\\n\\ndf_female = df[df['gender'] == 'Female']\\ndf_male = df[df['gender'] == 'Male']\";\n",
       "                var nbb_formatted_code = \"# cria\\u00e7\\u00e3o de novos dataframes para estudo\\n\\ndf_female = df[df[\\\"gender\\\"] == \\\"Female\\\"]\\ndf_male = df[df[\\\"gender\\\"] == \\\"Male\\\"]\";\n",
       "                var nbb_cells = Jupyter.notebook.get_cells();\n",
       "                for (var i = 0; i < nbb_cells.length; ++i) {\n",
       "                    if (nbb_cells[i].input_prompt_number == nbb_cell_id) {\n",
       "                        if (nbb_cells[i].get_text() == nbb_unformatted_code) {\n",
       "                             nbb_cells[i].set_text(nbb_formatted_code);\n",
       "                        }\n",
       "                        break;\n",
       "                    }\n",
       "                }\n",
       "            }, 500);\n",
       "            "
      ],
      "text/plain": [
       "<IPython.core.display.Javascript object>"
      ]
     },
     "metadata": {},
     "output_type": "display_data"
    }
   ],
   "source": [
    "#criação de novos dataframes para estudo\n",
    "\n",
    "df_female = df[df['gender'] == 'Female']\n",
    "df_male = df[df['gender'] == 'Male']"
   ]
  },
  {
   "cell_type": "code",
   "execution_count": 32,
   "id": "73e606e2-e3c2-4236-beba-3262809597c1",
   "metadata": {},
   "outputs": [
    {
     "name": "stdout",
     "output_type": "stream",
     "text": [
      "Porcentagem de evasão do produto para o sexo Feminino: 10%\n"
     ]
    },
    {
     "data": {
      "application/javascript": [
       "\n",
       "            setTimeout(function() {\n",
       "                var nbb_cell_id = 32;\n",
       "                var nbb_unformatted_code = \"# porcentagem de pessoas que querem o produto servi\\u00e7o de telefone para as mulheres\\n# Churn servi\\u00e7o de telefone para mulheres\\nchurn_mulheres = df_female['PhoneService'].value_counts()[0]/df_female['PhoneService'].value_counts()[1]\\nprint(f'Porcentagem de evas\\u00e3o do produto para o sexo Feminino: {round(churn_mulheres)}%')\";\n",
       "                var nbb_formatted_code = \"# porcentagem de pessoas que querem o produto servi\\u00e7o de telefone para as mulheres\\n# Churn servi\\u00e7o de telefone para mulheres\\nchurn_mulheres = (\\n    df_female[\\\"PhoneService\\\"].value_counts()[0]\\n    / df_female[\\\"PhoneService\\\"].value_counts()[1]\\n)\\nprint(\\n    f\\\"Porcentagem de evas\\u00e3o do produto para o sexo Feminino: {round(churn_mulheres)}%\\\"\\n)\";\n",
       "                var nbb_cells = Jupyter.notebook.get_cells();\n",
       "                for (var i = 0; i < nbb_cells.length; ++i) {\n",
       "                    if (nbb_cells[i].input_prompt_number == nbb_cell_id) {\n",
       "                        if (nbb_cells[i].get_text() == nbb_unformatted_code) {\n",
       "                             nbb_cells[i].set_text(nbb_formatted_code);\n",
       "                        }\n",
       "                        break;\n",
       "                    }\n",
       "                }\n",
       "            }, 500);\n",
       "            "
      ],
      "text/plain": [
       "<IPython.core.display.Javascript object>"
      ]
     },
     "metadata": {},
     "output_type": "display_data"
    }
   ],
   "source": [
    "# porcentagem de pessoas que querem o produto serviço de telefone para as mulheres\n",
    "# Churn serviço de telefone para mulheres\n",
    "churn_mulheres = df_female['PhoneService'].value_counts()[0]/df_female['PhoneService'].value_counts()[1]\n",
    "print(f'Porcentagem de evasão do produto para o sexo Feminino: {round(churn_mulheres)}%')"
   ]
  },
  {
   "cell_type": "code",
   "execution_count": 38,
   "id": "dccc8172-f413-4d2b-b4a2-45ec7104514c",
   "metadata": {},
   "outputs": [
    {
     "name": "stdout",
     "output_type": "stream",
     "text": [
      "Porcentagem de evasão do produto para o sexo Masculino: 9%\n"
     ]
    },
    {
     "data": {
      "application/javascript": [
       "\n",
       "            setTimeout(function() {\n",
       "                var nbb_cell_id = 38;\n",
       "                var nbb_unformatted_code = \"# porcentagem de pessoas que querem o produto servi\\u00e7o de telefone para os homens\\n# Churn servi\\u00e7o de telefone para homens\\nchurn_homens = df_male['PhoneService'].value_counts()[0]/df_male['PhoneService'].value_counts()[1]\\nprint(f'Porcentagem de evas\\u00e3o do produto para o sexo Masculino: {round(churn_homens)}%')\";\n",
       "                var nbb_formatted_code = \"# porcentagem de pessoas que querem o produto servi\\u00e7o de telefone para os homens\\n# Churn servi\\u00e7o de telefone para homens\\nchurn_homens = (\\n    df_male[\\\"PhoneService\\\"].value_counts()[0]\\n    / df_male[\\\"PhoneService\\\"].value_counts()[1]\\n)\\nprint(f\\\"Porcentagem de evas\\u00e3o do produto para o sexo Masculino: {round(churn_homens)}%\\\")\";\n",
       "                var nbb_cells = Jupyter.notebook.get_cells();\n",
       "                for (var i = 0; i < nbb_cells.length; ++i) {\n",
       "                    if (nbb_cells[i].input_prompt_number == nbb_cell_id) {\n",
       "                        if (nbb_cells[i].get_text() == nbb_unformatted_code) {\n",
       "                             nbb_cells[i].set_text(nbb_formatted_code);\n",
       "                        }\n",
       "                        break;\n",
       "                    }\n",
       "                }\n",
       "            }, 500);\n",
       "            "
      ],
      "text/plain": [
       "<IPython.core.display.Javascript object>"
      ]
     },
     "metadata": {},
     "output_type": "display_data"
    }
   ],
   "source": [
    "# porcentagem de pessoas que querem o produto serviço de telefone para os homens\n",
    "# Churn serviço de telefone para homens\n",
    "churn_homens = df_male['PhoneService'].value_counts()[0]/df_male['PhoneService'].value_counts()[1]\n",
    "print(f'Porcentagem de evasão do produto para o sexo Masculino: {round(churn_homens)}%')"
   ]
  },
  {
   "cell_type": "code",
   "execution_count": 34,
   "id": "6aab30b5-7351-475e-ada0-bcf171917aee",
   "metadata": {
    "tags": []
   },
   "outputs": [
    {
     "data": {
      "image/png": "[encoded data removed]",
      "text/plain": [
       "<Figure size 1440x432 with 3 Axes>"
      ]
     },
     "metadata": {},
     "output_type": "display_data"
    },
    {
     "data": {
      "application/javascript": [
       "\n",
       "            setTimeout(function() {\n",
       "                var nbb_cell_id = 34;\n",
       "                var nbb_unformatted_code = \"#Quanto de posse tem por tipo de contrato\\n\\n\\nfig, (ax1,ax2,ax3) = plt.subplots(nrows=1, ncols=3, sharey = True, figsize = (20,6))\\n\\nax = sns.distplot(df[df['Contract']=='Month-to-month']['tenure'],\\n                   hist=True, kde=False,\\n                   bins=int(180/5), color = 'turquoise',\\n                   hist_kws={'edgecolor':'black'},\\n                   kde_kws={'linewidth': 4},\\n                 ax=ax1)\\nax.set_ylabel('# of Customers')\\nax.set_xlabel('Tenure (months)')\\nax.set_title('Month to Month Contract')\\n\\nax = sns.distplot(df[df['Contract']=='One year']['tenure'],\\n                   hist=True, kde=False,\\n                   bins=int(180/5), color = 'steelblue',\\n                   hist_kws={'edgecolor':'black'},\\n                   kde_kws={'linewidth': 4},\\n                 ax=ax2)\\nax.set_xlabel('Tenure (months)',size = 14)\\nax.set_title('One Year Contract',size = 14)\\n\\nax = sns.distplot(df[df['Contract']=='Two year']['tenure'],\\n                   hist=True, kde=False,\\n                   bins=int(180/5), color = 'darkblue',\\n                   hist_kws={'edgecolor':'black'},\\n                   kde_kws={'linewidth': 4},\\n                 ax=ax3)\\n\\nax.set_xlabel('Tenure (months)')\\nax.set_title('Two Year Contract')\\nplt.show()\";\n",
       "                var nbb_formatted_code = \"# Quanto de posse tem por tipo de contrato\\n\\n\\nfig, (ax1, ax2, ax3) = plt.subplots(nrows=1, ncols=3, sharey=True, figsize=(20, 6))\\n\\nax = sns.distplot(\\n    df[df[\\\"Contract\\\"] == \\\"Month-to-month\\\"][\\\"tenure\\\"],\\n    hist=True,\\n    kde=False,\\n    bins=int(180 / 5),\\n    color=\\\"turquoise\\\",\\n    hist_kws={\\\"edgecolor\\\": \\\"black\\\"},\\n    kde_kws={\\\"linewidth\\\": 4},\\n    ax=ax1,\\n)\\nax.set_ylabel(\\\"# of Customers\\\")\\nax.set_xlabel(\\\"Tenure (months)\\\")\\nax.set_title(\\\"Month to Month Contract\\\")\\n\\nax = sns.distplot(\\n    df[df[\\\"Contract\\\"] == \\\"One year\\\"][\\\"tenure\\\"],\\n    hist=True,\\n    kde=False,\\n    bins=int(180 / 5),\\n    color=\\\"steelblue\\\",\\n    hist_kws={\\\"edgecolor\\\": \\\"black\\\"},\\n    kde_kws={\\\"linewidth\\\": 4},\\n    ax=ax2,\\n)\\nax.set_xlabel(\\\"Tenure (months)\\\", size=14)\\nax.set_title(\\\"One Year Contract\\\", size=14)\\n\\nax = sns.distplot(\\n    df[df[\\\"Contract\\\"] == \\\"Two year\\\"][\\\"tenure\\\"],\\n    hist=True,\\n    kde=False,\\n    bins=int(180 / 5),\\n    color=\\\"darkblue\\\",\\n    hist_kws={\\\"edgecolor\\\": \\\"black\\\"},\\n    kde_kws={\\\"linewidth\\\": 4},\\n    ax=ax3,\\n)\\n\\nax.set_xlabel(\\\"Tenure (months)\\\")\\nax.set_title(\\\"Two Year Contract\\\")\\nplt.show()\";\n",
       "                var nbb_cells = Jupyter.notebook.get_cells();\n",
       "                for (var i = 0; i < nbb_cells.length; ++i) {\n",
       "                    if (nbb_cells[i].input_prompt_number == nbb_cell_id) {\n",
       "                        if (nbb_cells[i].get_text() == nbb_unformatted_code) {\n",
       "                             nbb_cells[i].set_text(nbb_formatted_code);\n",
       "                        }\n",
       "                        break;\n",
       "                    }\n",
       "                }\n",
       "            }, 500);\n",
       "            "
      ],
      "text/plain": [
       "<IPython.core.display.Javascript object>"
      ]
     },
     "metadata": {},
     "output_type": "display_data"
    }
   ],
   "source": [
    "#Quanto de posse tem por tipo de contrato\n",
    "\n",
    "\n",
    "fig, (ax1,ax2,ax3) = plt.subplots(nrows=1, ncols=3, sharey = True, figsize = (20,6))\n",
    "\n",
    "ax = sns.distplot(df[df['Contract']=='Month-to-month']['tenure'],\n",
    "                   hist=True, kde=False,\n",
    "                   bins=int(180/5), color = 'turquoise',\n",
    "                   hist_kws={'edgecolor':'black'},\n",
    "                   kde_kws={'linewidth': 4},\n",
    "                 ax=ax1)\n",
    "ax.set_ylabel('# of Customers')\n",
    "ax.set_xlabel('Tenure (months)')\n",
    "ax.set_title('Month to Month Contract')\n",
    "\n",
    "ax = sns.distplot(df[df['Contract']=='One year']['tenure'],\n",
    "                   hist=True, kde=False,\n",
    "                   bins=int(180/5), color = 'steelblue',\n",
    "                   hist_kws={'edgecolor':'black'},\n",
    "                   kde_kws={'linewidth': 4},\n",
    "                 ax=ax2)\n",
    "ax.set_xlabel('Tenure (months)',size = 14)\n",
    "ax.set_title('One Year Contract',size = 14)\n",
    "\n",
    "ax = sns.distplot(df[df['Contract']=='Two year']['tenure'],\n",
    "                   hist=True, kde=False,\n",
    "                   bins=int(180/5), color = 'darkblue',\n",
    "                   hist_kws={'edgecolor':'black'},\n",
    "                   kde_kws={'linewidth': 4},\n",
    "                 ax=ax3)\n",
    "\n",
    "ax.set_xlabel('Tenure (months)')\n",
    "ax.set_title('Two Year Contract')\n",
    "plt.show()"
   ]
  },
  {
   "cell_type": "markdown",
   "id": "af0483a9-1529-47d4-ab71-cc3cdb72dcc4",
   "metadata": {},
   "source": [
    "até esse momento da exploração, a distribuição entre homens e mulheres estão bem disbrituidas, assim como \n",
    "a posse por genero. Entre mulheres e homens que tem o mesmo número de posse, também deu na mesma.\n"
   ]
  },
  {
   "cell_type": "code",
   "execution_count": 35,
   "id": "8373090b-5fb4-4fc1-ae8e-1e522b8c7349",
   "metadata": {},
   "outputs": [
    {
     "data": {
      "text/html": [
       "<div>\n",
       "<style scoped>\n",
       "    .dataframe tbody tr th:only-of-type {\n",
       "        vertical-align: middle;\n",
       "    }\n",
       "\n",
       "    .dataframe tbody tr th {\n",
       "        vertical-align: top;\n",
       "    }\n",
       "\n",
       "    .dataframe thead th {\n",
       "        text-align: right;\n",
       "    }\n",
       "</style>\n",
       "<table border=\"1\" class=\"dataframe\">\n",
       "  <thead>\n",
       "    <tr style=\"text-align: right;\">\n",
       "      <th></th>\n",
       "      <th>gender</th>\n",
       "      <th>SeniorCitizen</th>\n",
       "      <th>Partner</th>\n",
       "      <th>Dependents</th>\n",
       "      <th>tenure</th>\n",
       "      <th>PhoneService</th>\n",
       "      <th>MultipleLines</th>\n",
       "      <th>InternetService</th>\n",
       "      <th>OnlineSecurity</th>\n",
       "      <th>OnlineBackup</th>\n",
       "      <th>DeviceProtection</th>\n",
       "      <th>TechSupport</th>\n",
       "      <th>StreamingTV</th>\n",
       "      <th>StreamingMovies</th>\n",
       "      <th>Contract</th>\n",
       "      <th>PaperlessBilling</th>\n",
       "      <th>PaymentMethod</th>\n",
       "      <th>MonthlyCharges</th>\n",
       "      <th>TotalCharges</th>\n",
       "      <th>Churn</th>\n",
       "    </tr>\n",
       "  </thead>\n",
       "  <tbody>\n",
       "    <tr>\n",
       "      <th>0</th>\n",
       "      <td>Female</td>\n",
       "      <td>0</td>\n",
       "      <td>Yes</td>\n",
       "      <td>No</td>\n",
       "      <td>1</td>\n",
       "      <td>No</td>\n",
       "      <td>No</td>\n",
       "      <td>DSL</td>\n",
       "      <td>No</td>\n",
       "      <td>Yes</td>\n",
       "      <td>No</td>\n",
       "      <td>No</td>\n",
       "      <td>No</td>\n",
       "      <td>No</td>\n",
       "      <td>Month-to-month</td>\n",
       "      <td>Yes</td>\n",
       "      <td>Electronic check</td>\n",
       "      <td>29.85</td>\n",
       "      <td>29.85</td>\n",
       "      <td>No</td>\n",
       "    </tr>\n",
       "    <tr>\n",
       "      <th>1</th>\n",
       "      <td>Male</td>\n",
       "      <td>0</td>\n",
       "      <td>No</td>\n",
       "      <td>No</td>\n",
       "      <td>34</td>\n",
       "      <td>Yes</td>\n",
       "      <td>No</td>\n",
       "      <td>DSL</td>\n",
       "      <td>Yes</td>\n",
       "      <td>No</td>\n",
       "      <td>Yes</td>\n",
       "      <td>No</td>\n",
       "      <td>No</td>\n",
       "      <td>No</td>\n",
       "      <td>One year</td>\n",
       "      <td>No</td>\n",
       "      <td>Mailed check</td>\n",
       "      <td>56.95</td>\n",
       "      <td>1889.50</td>\n",
       "      <td>No</td>\n",
       "    </tr>\n",
       "    <tr>\n",
       "      <th>2</th>\n",
       "      <td>Male</td>\n",
       "      <td>0</td>\n",
       "      <td>No</td>\n",
       "      <td>No</td>\n",
       "      <td>2</td>\n",
       "      <td>Yes</td>\n",
       "      <td>No</td>\n",
       "      <td>DSL</td>\n",
       "      <td>Yes</td>\n",
       "      <td>Yes</td>\n",
       "      <td>No</td>\n",
       "      <td>No</td>\n",
       "      <td>No</td>\n",
       "      <td>No</td>\n",
       "      <td>Month-to-month</td>\n",
       "      <td>Yes</td>\n",
       "      <td>Mailed check</td>\n",
       "      <td>53.85</td>\n",
       "      <td>108.15</td>\n",
       "      <td>Yes</td>\n",
       "    </tr>\n",
       "    <tr>\n",
       "      <th>3</th>\n",
       "      <td>Male</td>\n",
       "      <td>0</td>\n",
       "      <td>No</td>\n",
       "      <td>No</td>\n",
       "      <td>45</td>\n",
       "      <td>No</td>\n",
       "      <td>No</td>\n",
       "      <td>DSL</td>\n",
       "      <td>Yes</td>\n",
       "      <td>No</td>\n",
       "      <td>Yes</td>\n",
       "      <td>Yes</td>\n",
       "      <td>No</td>\n",
       "      <td>No</td>\n",
       "      <td>One year</td>\n",
       "      <td>No</td>\n",
       "      <td>Bank transfer (automatic)</td>\n",
       "      <td>42.30</td>\n",
       "      <td>1840.75</td>\n",
       "      <td>No</td>\n",
       "    </tr>\n",
       "    <tr>\n",
       "      <th>4</th>\n",
       "      <td>Female</td>\n",
       "      <td>0</td>\n",
       "      <td>No</td>\n",
       "      <td>No</td>\n",
       "      <td>2</td>\n",
       "      <td>Yes</td>\n",
       "      <td>No</td>\n",
       "      <td>Fiber optic</td>\n",
       "      <td>No</td>\n",
       "      <td>No</td>\n",
       "      <td>No</td>\n",
       "      <td>No</td>\n",
       "      <td>No</td>\n",
       "      <td>No</td>\n",
       "      <td>Month-to-month</td>\n",
       "      <td>Yes</td>\n",
       "      <td>Electronic check</td>\n",
       "      <td>70.70</td>\n",
       "      <td>151.65</td>\n",
       "      <td>Yes</td>\n",
       "    </tr>\n",
       "  </tbody>\n",
       "</table>\n",
       "</div>"
      ],
      "text/plain": [
       "   gender  SeniorCitizen Partner Dependents  tenure PhoneService  \\\n",
       "0  Female              0     Yes         No       1           No   \n",
       "1    Male              0      No         No      34          Yes   \n",
       "2    Male              0      No         No       2          Yes   \n",
       "3    Male              0      No         No      45           No   \n",
       "4  Female              0      No         No       2          Yes   \n",
       "\n",
       "  MultipleLines InternetService OnlineSecurity OnlineBackup DeviceProtection  \\\n",
       "0            No             DSL             No          Yes               No   \n",
       "1            No             DSL            Yes           No              Yes   \n",
       "2            No             DSL            Yes          Yes               No   \n",
       "3            No             DSL            Yes           No              Yes   \n",
       "4            No     Fiber optic             No           No               No   \n",
       "\n",
       "  TechSupport StreamingTV StreamingMovies        Contract PaperlessBilling  \\\n",
       "0          No          No              No  Month-to-month              Yes   \n",
       "1          No          No              No        One year               No   \n",
       "2          No          No              No  Month-to-month              Yes   \n",
       "3         Yes          No              No        One year               No   \n",
       "4          No          No              No  Month-to-month              Yes   \n",
       "\n",
       "               PaymentMethod  MonthlyCharges  TotalCharges Churn  \n",
       "0           Electronic check           29.85         29.85    No  \n",
       "1               Mailed check           56.95       1889.50    No  \n",
       "2               Mailed check           53.85        108.15   Yes  \n",
       "3  Bank transfer (automatic)           42.30       1840.75    No  \n",
       "4           Electronic check           70.70        151.65   Yes  "
      ]
     },
     "execution_count": 35,
     "metadata": {},
     "output_type": "execute_result"
    },
    {
     "data": {
      "application/javascript": [
       "\n",
       "            setTimeout(function() {\n",
       "                var nbb_cell_id = 35;\n",
       "                var nbb_unformatted_code = \"df.head()\";\n",
       "                var nbb_formatted_code = \"df.head()\";\n",
       "                var nbb_cells = Jupyter.notebook.get_cells();\n",
       "                for (var i = 0; i < nbb_cells.length; ++i) {\n",
       "                    if (nbb_cells[i].input_prompt_number == nbb_cell_id) {\n",
       "                        if (nbb_cells[i].get_text() == nbb_unformatted_code) {\n",
       "                             nbb_cells[i].set_text(nbb_formatted_code);\n",
       "                        }\n",
       "                        break;\n",
       "                    }\n",
       "                }\n",
       "            }, 500);\n",
       "            "
      ],
      "text/plain": [
       "<IPython.core.display.Javascript object>"
      ]
     },
     "metadata": {},
     "output_type": "display_data"
    }
   ],
   "source": [
    "df.head()"
   ]
  },
  {
   "cell_type": "code",
   "execution_count": null,
   "id": "c15b6e10-2ab3-4378-88a3-4b77e2f0d9c3",
   "metadata": {},
   "outputs": [],
   "source": []
  },
  {
   "cell_type": "code",
   "execution_count": 36,
   "id": "0aba95b8-a9f1-4880-a6d7-e55d7476a8f7",
   "metadata": {},
   "outputs": [
    {
     "data": {
      "application/javascript": [
       "\n",
       "            setTimeout(function() {\n",
       "                var nbb_cell_id = 36;\n",
       "                var nbb_unformatted_code = \"df.to_csv('DataFrame-Modelo.csv')\";\n",
       "                var nbb_formatted_code = \"df.to_csv(\\\"DataFrame-Modelo.csv\\\")\";\n",
       "                var nbb_cells = Jupyter.notebook.get_cells();\n",
       "                for (var i = 0; i < nbb_cells.length; ++i) {\n",
       "                    if (nbb_cells[i].input_prompt_number == nbb_cell_id) {\n",
       "                        if (nbb_cells[i].get_text() == nbb_unformatted_code) {\n",
       "                             nbb_cells[i].set_text(nbb_formatted_code);\n",
       "                        }\n",
       "                        break;\n",
       "                    }\n",
       "                }\n",
       "            }, 500);\n",
       "            "
      ],
      "text/plain": [
       "<IPython.core.display.Javascript object>"
      ]
     },
     "metadata": {},
     "output_type": "display_data"
    }
   ],
   "source": [
    "df.to_csv('DataFrame-Modelo.csv')"
   ]
  }
 ],
 "metadata": {
  "kernelspec": {
   "display_name": "Python 3",
   "language": "python",
   "name": "python3"
  },
  "language_info": {
   "codemirror_mode": {
    "name": "ipython",
    "version": 3
   },
   "file_extension": ".py",
   "mimetype": "text/x-python",
   "name": "python",
   "nbconvert_exporter": "python",
   "pygments_lexer": "ipython3",
   "version": "3.9.5"
  }
 },
 "nbformat": 4,
 "nbformat_minor": 5
}
