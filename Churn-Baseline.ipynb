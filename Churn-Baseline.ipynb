{
 "cells": [
  {
   "cell_type": "code",
   "execution_count": 1,
   "id": "c0481341-89df-40bd-a026-a6981ab5771d",
   "metadata": {},
   "outputs": [],
   "source": [
    "import numpy as np\n",
    "import pandas as pd\n",
    "\n",
    "from sklearn.linear_model import LogisticRegression, LogisticRegressionCV\n",
    "\n",
    "\n",
    "from xgboost import XGBRFClassifier\n",
    "from sklearn.neighbors import KNeighborsClassifier\n",
    "from sklearn.svm import SVC\n",
    "from sklearn.ensemble import RandomForestClassifier\n",
    "from xgboost import XGBClassifier\n",
    "\n",
    "from sklearn.metrics import accuracy_score\n",
    "import category_encoders as ce\n",
    "from sklearn.impute import SimpleImputer\n",
    "from sklearn.pipeline import Pipeline\n",
    "from sklearn.compose import ColumnTransformer\n",
    "from sklearn.preprocessing import LabelEncoder, MinMaxScaler, OneHotEncoder, OrdinalEncoder, StandardScaler, MaxAbsScaler\n",
    "\n",
    "from sklearn.model_selection import train_test_split\n",
    "from sklearn import metrics\n",
    "\n",
    "\n",
    "from imblearn.over_sampling import SMOTE\n",
    "from imblearn.under_sampling import NearMiss\n",
    "\n",
    "\n",
    "import seaborn as sns\n",
    "import matplotlib.pyplot as plt\n",
    "\n",
    "\n",
    "import warnings\n",
    "warnings.filterwarnings(\"ignore\")"
   ]
  },
  {
   "cell_type": "code",
   "execution_count": 2,
   "id": "316daf14-dd95-490c-84da-f6aa736f9c88",
   "metadata": {},
   "outputs": [
    {
     "data": {
      "text/plain": [
       "Index(['Unnamed: 0', 'gender', 'SeniorCitizen', 'Partner', 'Dependents',\n",
       "       'tenure', 'PhoneService', 'MultipleLines', 'InternetService',\n",
       "       'OnlineSecurity', 'OnlineBackup', 'DeviceProtection', 'TechSupport',\n",
       "       'StreamingTV', 'StreamingMovies', 'Contract', 'PaperlessBilling',\n",
       "       'PaymentMethod', 'MonthlyCharges', 'TotalCharges', 'Churn'],\n",
       "      dtype='object')"
      ]
     },
     "execution_count": 2,
     "metadata": {},
     "output_type": "execute_result"
    }
   ],
   "source": [
    "#criação do dataframe\n",
    "df = pd.read_csv('DataFrame-Modelo.csv')\n",
    "df = pd.DataFrame(df)\n",
    "df.columns"
   ]
  },
  {
   "cell_type": "code",
   "execution_count": 3,
   "id": "1958e379-bd01-4959-aa69-0376558411fd",
   "metadata": {},
   "outputs": [],
   "source": [
    "from sklearn.model_selection import train_test_split\n",
    "\n",
    "X = df.drop(['Churn','Unnamed: 0'], axis=1)\n",
    "\n",
    "\n",
    "y = df['Churn']"
   ]
  },
  {
   "cell_type": "code",
   "execution_count": 4,
   "id": "94c89e7b-24fb-45ef-a026-0aab2e5ec658",
   "metadata": {},
   "outputs": [],
   "source": [
    "#separação em teste e treino\n",
    "X_test, X_train, y_test, y_train = train_test_split(X, y, test_size=0.3, random_state=42)"
   ]
  },
  {
   "cell_type": "code",
   "execution_count": 5,
   "id": "728c7348-ddd3-4321-bae4-55526a71904e",
   "metadata": {},
   "outputs": [],
   "source": [
    "y = y.map({'No' : 0,\n",
    "           'Yes' : 1})"
   ]
  },
  {
   "cell_type": "code",
   "execution_count": 6,
   "id": "1abb83c7-4670-4db0-9902-4e4c41e28ed0",
   "metadata": {},
   "outputs": [],
   "source": [
    "#Separação das features\n",
    "features_categorical = [\n",
    "    'gender',\n",
    "    'SeniorCitizen',\n",
    "    'Partner',\n",
    "    'Dependents',\n",
    "    'PhoneService',\n",
    "    'MultipleLines',\n",
    "    'InternetService',\n",
    "    'OnlineSecurity',\n",
    "    'OnlineBackup',\n",
    "    'DeviceProtection',\n",
    "    'TechSupport',\n",
    "    'StreamingTV',\n",
    "    'StreamingMovies',\n",
    "    'Contract',\n",
    "    'PaperlessBilling',\n",
    "    'PaymentMethod',\n",
    "    \n",
    "]\n",
    "\n",
    "features_numeric = [\n",
    "    'tenure',\n",
    "    'MonthlyCharges',\n",
    "    'TotalCharges'\n",
    "]"
   ]
  },
  {
   "cell_type": "markdown",
   "id": "264c19e9-11c3-40df-b7af-6c2dc806697b",
   "metadata": {},
   "source": [
    "# Montagem do pipeline"
   ]
  },
  {
   "cell_type": "code",
   "execution_count": 7,
   "id": "fd019068-abd3-4bf3-b22b-d6c04dc8a828",
   "metadata": {},
   "outputs": [
    {
     "name": "stdout",
     "output_type": "stream",
     "text": [
      "=========================================================\n",
      "LogisticRegressionCV() | score: 0.799\n",
      "==========================================================\n",
      "              precision    recall  f1-score   support\n",
      "\n",
      "          No       0.84      0.90      0.87      3635\n",
      "         Yes       0.64      0.53      0.58      1295\n",
      "\n",
      "    accuracy                           0.80      4930\n",
      "   macro avg       0.74      0.71      0.72      4930\n",
      "weighted avg       0.79      0.80      0.79      4930\n",
      "\n",
      "=========================================================\n",
      "LogisticRegressionCV() | score: 0.799\n",
      "==========================================================\n",
      "              precision    recall  f1-score   support\n",
      "\n",
      "          No       0.84      0.90      0.87      3635\n",
      "         Yes       0.64      0.53      0.58      1295\n",
      "\n",
      "    accuracy                           0.80      4930\n",
      "   macro avg       0.74      0.71      0.72      4930\n",
      "weighted avg       0.79      0.80      0.79      4930\n",
      "\n",
      "=========================================================\n",
      "LogisticRegression() | score: 0.798\n",
      "==========================================================\n",
      "              precision    recall  f1-score   support\n",
      "\n",
      "          No       0.85      0.89      0.87      3635\n",
      "         Yes       0.63      0.55      0.59      1295\n",
      "\n",
      "    accuracy                           0.80      4930\n",
      "   macro avg       0.74      0.72      0.73      4930\n",
      "weighted avg       0.79      0.80      0.79      4930\n",
      "\n",
      "=========================================================\n",
      "KNeighborsClassifier() | score: 0.762\n",
      "==========================================================\n",
      "              precision    recall  f1-score   support\n",
      "\n",
      "          No       0.84      0.84      0.84      3635\n",
      "         Yes       0.55      0.54      0.54      1295\n",
      "\n",
      "    accuracy                           0.76      4930\n",
      "   macro avg       0.69      0.69      0.69      4930\n",
      "weighted avg       0.76      0.76      0.76      4930\n",
      "\n",
      "=========================================================\n",
      "SVC(class_weight='balanced') | score: 0.749\n",
      "==========================================================\n",
      "              precision    recall  f1-score   support\n",
      "\n",
      "          No       0.90      0.74      0.81      3635\n",
      "         Yes       0.52      0.77      0.62      1295\n",
      "\n",
      "    accuracy                           0.75      4930\n",
      "   macro avg       0.71      0.76      0.72      4930\n",
      "weighted avg       0.80      0.75      0.76      4930\n",
      "\n",
      "=========================================================\n",
      "SVC() | score: 0.8\n",
      "==========================================================\n",
      "              precision    recall  f1-score   support\n",
      "\n",
      "          No       0.84      0.91      0.87      3635\n",
      "         Yes       0.66      0.51      0.57      1295\n",
      "\n",
      "    accuracy                           0.80      4930\n",
      "   macro avg       0.75      0.71      0.72      4930\n",
      "weighted avg       0.79      0.80      0.79      4930\n",
      "\n",
      "=========================================================\n",
      "RandomForestClassifier() | score: 0.787\n",
      "==========================================================\n",
      "              precision    recall  f1-score   support\n",
      "\n",
      "          No       0.83      0.89      0.86      3635\n",
      "         Yes       0.62      0.49      0.55      1295\n",
      "\n",
      "    accuracy                           0.79      4930\n",
      "   macro avg       0.72      0.69      0.70      4930\n",
      "weighted avg       0.78      0.79      0.78      4930\n",
      "\n"
     ]
    }
   ],
   "source": [
    "#testando diferentes \n",
    "\n",
    "list_clf = [\n",
    "    LogisticRegressionCV(),\n",
    "    LogisticRegressionCV(), \n",
    "    LogisticRegression(),\n",
    "    KNeighborsClassifier(),\n",
    "    SVC(class_weight='balanced'),\n",
    "    SVC(),\n",
    "    RandomForestClassifier()\n",
    "   \n",
    "]\n",
    "\n",
    "\n",
    "\n",
    "\n",
    "for   algoritmo in  list_clf:\n",
    "\n",
    "\n",
    "    #separação de tratamento para os tipos de coluna\n",
    "\n",
    "    numeric_transformer = Pipeline(\n",
    "        steps=[\n",
    "            (\"imputer\", SimpleImputer(strategy='median')),\n",
    "            (\"scaler\", StandardScaler())\n",
    "        ]\n",
    "    )\n",
    "\n",
    "    categorical_transformer = Pipeline(\n",
    "        steps = [\n",
    "            ('imputer', SimpleImputer(strategy='constant')),\n",
    "            ('encoder', ce.OneHotEncoder())\n",
    "        ]\n",
    "    )\n",
    "\n",
    "    #Aplicando o tratamento dos pipelines\n",
    "\n",
    "    preprocessor = ColumnTransformer(\n",
    "        transformers= [\n",
    "            ('numeric', numeric_transformer, features_numeric),\n",
    "            ('categorical', categorical_transformer, features_categorical)\n",
    "        ]\n",
    "\n",
    "    )\n",
    "\n",
    "\n",
    "    #Definindo os processamamentos \n",
    "    pipeline = Pipeline(\n",
    "        steps=[('preprocessor', preprocessor),\n",
    "               ('model',  algoritmo),\n",
    "\n",
    "          ]\n",
    "    )\n",
    "    \n",
    "    #treinamento do modelo\n",
    "    pipeline.fit(X_train, y_train)\n",
    "    y_pred = pipeline.predict(X_test)\n",
    "    print('=========================================================')\n",
    "    print(f'{algoritmo} | score: {round(pipeline.score(X_test, y_test),3)}')\n",
    "    print('==========================================================')\n",
    "    print(metrics.classification_report(y_test, y_pred))"
   ]
  },
  {
   "cell_type": "code",
   "execution_count": 8,
   "id": "b374bc29-9726-409c-b7f9-a5d0e531eca7",
   "metadata": {},
   "outputs": [
    {
     "name": "stdout",
     "output_type": "stream",
     "text": [
      "==============================\n",
      " liblinear | score: 0.799\n",
      "==============================\n",
      "==============================\n",
      " newton-cg | score: 0.798\n",
      "==============================\n",
      "==============================\n",
      " lbfgs | score: 0.798\n",
      "==============================\n",
      "==============================\n",
      " sag | score: 0.798\n",
      "==============================\n",
      "==============================\n",
      " saga | score: 0.798\n",
      "==============================\n"
     ]
    }
   ],
   "source": [
    "#testando hiperparametros \n",
    "\n",
    "solver_list = ['liblinear', 'newton-cg', 'lbfgs', 'sag', 'saga']\n",
    "\n",
    "for i in solver_list:\n",
    "\n",
    "    #Pipeline do modelo\n",
    "    pipeline = Pipeline(\n",
    "    steps=[('preprocessor', preprocessor),\n",
    "           ('model',  LogisticRegression(random_state=42, solver=i, multi_class=\"auto\", n_jobs=-1, C=1)),\n",
    "\n",
    "      ]\n",
    "    )\n",
    "\n",
    "    pipeline.fit(X_train, y_train)\n",
    "    y_pred = pipeline.predict(X_test)\n",
    "    print('==============================')\n",
    "    print(f' {i} | score: {round(pipeline.score(X_test, y_test),3)}')\n",
    "    print('==============================')\n"
   ]
  },
  {
   "cell_type": "markdown",
   "id": "d61c7710-64a9-4eef-8311-ceb0349427d1",
   "metadata": {},
   "source": [
    "# Métricas de avaliação"
   ]
  },
  {
   "cell_type": "code",
   "execution_count": 9,
   "id": "6b8f9e61-f20c-499d-9363-e5dc637bd8ec",
   "metadata": {},
   "outputs": [],
   "source": [
    "#Matriz de confusão\n",
    "cm =  metrics.confusion_matrix(y_test, y_pred)"
   ]
  },
  {
   "cell_type": "code",
   "execution_count": 10,
   "id": "5f5990c7-bad4-4a9d-b6f7-0af22cd5f344",
   "metadata": {},
   "outputs": [
    {
     "data": {
      "image/png": "[encoded data removed]",
      "text/plain": [
       "<Figure size 576x432 with 2 Axes>"
      ]
     },
     "metadata": {
      "needs_background": "light"
     },
     "output_type": "display_data"
    }
   ],
   "source": [
    "import itertools\n",
    "def plot_confusion_matrix(cm, classes,\n",
    "                          normalize=False,\n",
    "                          title='Confusion matrix',\n",
    "                          cmap=plt.cm.Blues):\n",
    "    if normalize:\n",
    "        cm = cm.astype('float') / cm.sum(axis=1)[:, np.newaxis]\n",
    "        \n",
    "    plt.figure(figsize=(8,6))\n",
    "    plt.imshow(cm, interpolation='nearest', cmap=cmap)\n",
    "    plt.title(title)\n",
    "    plt.colorbar()\n",
    "    tick_marks = np.arange(len(classes))\n",
    "    plt.xticks(tick_marks, classes, rotation=45)\n",
    "    plt.yticks(tick_marks, classes)\n",
    "\n",
    "    fmt = '.2f' if normalize else 'd'\n",
    "    thresh = cm.max() / 2.\n",
    "    for i, j in itertools.product(range(cm.shape[0]), range(cm.shape[1])):\n",
    "        plt.text(j, i, format(cm[i, j], fmt),\n",
    "             horizontalalignment=\"center\",\n",
    "             color=\"white\" if cm[i, j] > thresh else \"black\")\n",
    "\n",
    "    plt.ylabel('True label')\n",
    "    plt.xlabel('Predicted label')\n",
    "    plt.tight_layout()\n",
    "    \n",
    "plot_confusion_matrix(cm, classes=[0,1] )"
   ]
  },
  {
   "cell_type": "code",
   "execution_count": 11,
   "id": "680fbdf9-64b3-4d4a-8f8c-51d8da58fe3a",
   "metadata": {},
   "outputs": [
    {
     "data": {
      "text/plain": [
       "<sklearn.metrics._plot.roc_curve.RocCurveDisplay at 0x7efcbceaccd0>"
      ]
     },
     "execution_count": 11,
     "metadata": {},
     "output_type": "execute_result"
    },
    {
     "data": {
      "image/png": "[encoded data removed]",
      "text/plain": [
       "<Figure size 432x288 with 1 Axes>"
      ]
     },
     "metadata": {
      "needs_background": "light"
     },
     "output_type": "display_data"
    }
   ],
   "source": [
    "from sklearn.metrics import plot_roc_curve\n",
    "\n",
    "plot_roc_curve(pipeline, X_test, y_test)"
   ]
  },
  {
   "cell_type": "code",
   "execution_count": 12,
   "id": "110460ba-52ec-45a7-86d6-82605da56613",
   "metadata": {},
   "outputs": [],
   "source": [
    "# Usando o modelo para fazer predições"
   ]
  },
  {
   "cell_type": "code",
   "execution_count": 13,
   "id": "b2f7f66d-fbb7-46a3-a122-dd67a287dfdc",
   "metadata": {},
   "outputs": [
    {
     "name": "stdout",
     "output_type": "stream",
     "text": [
      "Eu teria 18.5% de probabilidade abandonar a assinatura\n"
     ]
    }
   ],
   "source": [
    "forecast = pd.DataFrame({'gender': 'female', 'SeniorCitizen': 1, 'Partner':'No', 'Dependents' : 'Yes', 'tenure': 10,\n",
    "       'PhoneService' : 'No', 'MultipleLines': 'No', 'InternetService': 'DSL', 'OnlineSecurity' : 'No',\n",
    "       'OnlineBackup' : 'Yes', 'DeviceProtection' : 'Yes', 'TechSupport' : 'No', 'StreamingTV' : 'No',\n",
    "       'StreamingMovies': 'Yes', 'Contract' : 'One year', 'PaperlessBilling': 'No', 'PaymentMethod' : 'Electronic check' ,\n",
    "       'MonthlyCharges' : 28.15, 'TotalCharges' : 108.15}, index=[0])\n",
    "probability = pipeline.predict_proba(forecast)\n",
    "print('Eu teria {}% de probabilidade abandonar a assinatura'\\\n",
    "      .format(round(probability[:,1][0]*100, 2)))"
   ]
  },
  {
   "cell_type": "code",
   "execution_count": null,
   "id": "e917621d-07c3-4254-a653-2c4062080473",
   "metadata": {},
   "outputs": [],
   "source": []
  }
 ],
 "metadata": {
  "kernelspec": {
   "display_name": "Python 3",
   "language": "python",
   "name": "python3"
  },
  "language_info": {
   "codemirror_mode": {
    "name": "ipython",
    "version": 3
   },
   "file_extension": ".py",
   "mimetype": "text/x-python",
   "name": "python",
   "nbconvert_exporter": "python",
   "pygments_lexer": "ipython3",
   "version": "3.9.5"
  }
 },
 "nbformat": 4,
 "nbformat_minor": 5
}
